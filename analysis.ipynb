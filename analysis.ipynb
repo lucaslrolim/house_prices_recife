{
 "cells": [
  {
   "cell_type": "code",
   "execution_count": 165,
   "metadata": {
    "collapsed": true
   },
   "outputs": [],
   "source": [
    "import pandas as pd\n",
    "import matplotlib as pl\n",
    "import matplotlib.pyplot as plt\n",
    "import numpy as np\n",
    "from sklearn import preprocessing\n",
    "from scipy.stats import norm, skew\n",
    "from scipy import stats\n",
    "import seaborn as sns\n",
    "%matplotlib inline\n",
    "import warnings\n",
    "warnings.filterwarnings('ignore')"
   ]
  },
  {
   "cell_type": "markdown",
   "metadata": {},
   "source": [
    "## Conjuntos de dados"
   ]
  },
  {
   "cell_type": "markdown",
   "metadata": {},
   "source": [
    "o conjunto de dados utilizado é referente a dados minerados de anúncios online de venda imóveis na cidade pernambucana de Recife. O conjunto foi disponibilizado no desafio da disciplina DEL/UFRJ - EEL891. "
   ]
  },
  {
   "cell_type": "code",
   "execution_count": 166,
   "metadata": {
    "scrolled": true
   },
   "outputs": [
    {
     "data": {
      "text/html": [
       "<div>\n",
       "<style scoped>\n",
       "    .dataframe tbody tr th:only-of-type {\n",
       "        vertical-align: middle;\n",
       "    }\n",
       "\n",
       "    .dataframe tbody tr th {\n",
       "        vertical-align: top;\n",
       "    }\n",
       "\n",
       "    .dataframe thead th {\n",
       "        text-align: right;\n",
       "    }\n",
       "</style>\n",
       "<table border=\"1\" class=\"dataframe\">\n",
       "  <thead>\n",
       "    <tr style=\"text-align: right;\">\n",
       "      <th></th>\n",
       "      <th>Id</th>\n",
       "      <th>tipo</th>\n",
       "      <th>bairro</th>\n",
       "      <th>tipo_vendedor</th>\n",
       "      <th>quartos</th>\n",
       "      <th>suites</th>\n",
       "      <th>vagas</th>\n",
       "      <th>area_util</th>\n",
       "      <th>area_extra</th>\n",
       "      <th>diferenciais</th>\n",
       "      <th>...</th>\n",
       "      <th>estacionamento</th>\n",
       "      <th>piscina</th>\n",
       "      <th>playground</th>\n",
       "      <th>quadra</th>\n",
       "      <th>s_festas</th>\n",
       "      <th>s_jogos</th>\n",
       "      <th>s_ginastica</th>\n",
       "      <th>sauna</th>\n",
       "      <th>vista_mar</th>\n",
       "      <th>preco</th>\n",
       "    </tr>\n",
       "  </thead>\n",
       "  <tbody>\n",
       "    <tr>\n",
       "      <th>0</th>\n",
       "      <td>2000</td>\n",
       "      <td>Casa</td>\n",
       "      <td>Imbiribeira</td>\n",
       "      <td>Imobiliaria</td>\n",
       "      <td>3</td>\n",
       "      <td>3</td>\n",
       "      <td>5</td>\n",
       "      <td>223</td>\n",
       "      <td>167</td>\n",
       "      <td>piscina e copa</td>\n",
       "      <td>...</td>\n",
       "      <td>0</td>\n",
       "      <td>1</td>\n",
       "      <td>0</td>\n",
       "      <td>0</td>\n",
       "      <td>0</td>\n",
       "      <td>0</td>\n",
       "      <td>0</td>\n",
       "      <td>0</td>\n",
       "      <td>0</td>\n",
       "      <td>1000000.0</td>\n",
       "    </tr>\n",
       "    <tr>\n",
       "      <th>1</th>\n",
       "      <td>2001</td>\n",
       "      <td>Apartamento</td>\n",
       "      <td>Casa Amarela</td>\n",
       "      <td>Imobiliaria</td>\n",
       "      <td>4</td>\n",
       "      <td>4</td>\n",
       "      <td>2</td>\n",
       "      <td>157</td>\n",
       "      <td>0</td>\n",
       "      <td>piscina e churrasqueira</td>\n",
       "      <td>...</td>\n",
       "      <td>0</td>\n",
       "      <td>1</td>\n",
       "      <td>0</td>\n",
       "      <td>0</td>\n",
       "      <td>0</td>\n",
       "      <td>0</td>\n",
       "      <td>0</td>\n",
       "      <td>0</td>\n",
       "      <td>0</td>\n",
       "      <td>680000.0</td>\n",
       "    </tr>\n",
       "    <tr>\n",
       "      <th>2</th>\n",
       "      <td>2002</td>\n",
       "      <td>Apartamento</td>\n",
       "      <td>Encruzilhada</td>\n",
       "      <td>Imobiliaria</td>\n",
       "      <td>3</td>\n",
       "      <td>1</td>\n",
       "      <td>0</td>\n",
       "      <td>53</td>\n",
       "      <td>0</td>\n",
       "      <td>nenhum</td>\n",
       "      <td>...</td>\n",
       "      <td>0</td>\n",
       "      <td>0</td>\n",
       "      <td>0</td>\n",
       "      <td>0</td>\n",
       "      <td>0</td>\n",
       "      <td>0</td>\n",
       "      <td>0</td>\n",
       "      <td>0</td>\n",
       "      <td>0</td>\n",
       "      <td>450000.0</td>\n",
       "    </tr>\n",
       "  </tbody>\n",
       "</table>\n",
       "<p>3 rows × 21 columns</p>\n",
       "</div>"
      ],
      "text/plain": [
       "     Id         tipo        bairro tipo_vendedor  quartos  suites  vagas  \\\n",
       "0  2000         Casa   Imbiribeira   Imobiliaria        3       3      5   \n",
       "1  2001  Apartamento  Casa Amarela   Imobiliaria        4       4      2   \n",
       "2  2002  Apartamento  Encruzilhada   Imobiliaria        3       1      0   \n",
       "\n",
       "   area_util  area_extra             diferenciais    ...      estacionamento  \\\n",
       "0        223         167           piscina e copa    ...                   0   \n",
       "1        157           0  piscina e churrasqueira    ...                   0   \n",
       "2         53           0                   nenhum    ...                   0   \n",
       "\n",
       "   piscina  playground  quadra  s_festas  s_jogos  s_ginastica  sauna  \\\n",
       "0        1           0       0         0        0            0      0   \n",
       "1        1           0       0         0        0            0      0   \n",
       "2        0           0       0         0        0            0      0   \n",
       "\n",
       "   vista_mar      preco  \n",
       "0          0  1000000.0  \n",
       "1          0   680000.0  \n",
       "2          0   450000.0  \n",
       "\n",
       "[3 rows x 21 columns]"
      ]
     },
     "execution_count": 166,
     "metadata": {},
     "output_type": "execute_result"
    }
   ],
   "source": [
    "df_train = pd.read_csv(\"data/train.csv\",sep=',')\n",
    "df_test = pd.read_csv(\"data/test.csv\",sep=',')\n",
    "\n",
    "# salvamos os ids do conjunto de testes para adicionar posteiromente em nosso dataset de submissão para o Kaggle\n",
    "# além disso adicionamos uma coluna temporária de preço no conjunto de testes, de modo a o deixar com a mesma\n",
    "# dimensão do conjunto de treino, facilitando assim transformações nesses dados\n",
    "\n",
    "test_ids = df_test['Id']\n",
    "df_test['preco'] = None\n",
    "\n",
    "train_size = len(df)\n",
    "df_train.head(3)"
   ]
  },
  {
   "cell_type": "markdown",
   "metadata": {},
   "source": [
    "Além do conjunto de treino fornecido no desafio, será utilizado também um conjunto de informações complemetares, disponibilizadas publicamente pelo governo de Pernambuco no site do [Banco de dados do Estado](http://www.bde.pe.gov.br/visualizacao/Visualizacao_formato2.aspx?CodInformacao=1162&Cod=3). Essas informações são referentes a distribuição de renda média dentro de cada um dos bairros da cidade de Recife e foram coletados no ano de 2010."
   ]
  },
  {
   "cell_type": "code",
   "execution_count": 167,
   "metadata": {
    "scrolled": true
   },
   "outputs": [
    {
     "data": {
      "text/html": [
       "<div>\n",
       "<style scoped>\n",
       "    .dataframe tbody tr th:only-of-type {\n",
       "        vertical-align: middle;\n",
       "    }\n",
       "\n",
       "    .dataframe tbody tr th {\n",
       "        vertical-align: top;\n",
       "    }\n",
       "\n",
       "    .dataframe thead th {\n",
       "        text-align: right;\n",
       "    }\n",
       "</style>\n",
       "<table border=\"1\" class=\"dataframe\">\n",
       "  <thead>\n",
       "    <tr style=\"text-align: right;\">\n",
       "      <th></th>\n",
       "      <th>bairro</th>\n",
       "      <th>Até 1/2 salário mínimo</th>\n",
       "      <th>Mais de 1/2 a 1 salário mínimo</th>\n",
       "      <th>Mais de 1 a 2 salários mínimos</th>\n",
       "      <th>Mais de 2 a 5 salários mínimos</th>\n",
       "      <th>Mais de 5 a 10 salários mínimos</th>\n",
       "      <th>Mais de 10 a 20 salários mínimos</th>\n",
       "      <th>Mais de 20 salários mínimos</th>\n",
       "      <th>Sem rendimento</th>\n",
       "    </tr>\n",
       "  </thead>\n",
       "  <tbody>\n",
       "    <tr>\n",
       "      <th>0</th>\n",
       "      <td>Aflitos</td>\n",
       "      <td>0.002581</td>\n",
       "      <td>0.012390</td>\n",
       "      <td>0.026846</td>\n",
       "      <td>0.094476</td>\n",
       "      <td>0.223542</td>\n",
       "      <td>0.308725</td>\n",
       "      <td>0.273619</td>\n",
       "      <td>0.057821</td>\n",
       "    </tr>\n",
       "    <tr>\n",
       "      <th>1</th>\n",
       "      <td>Afogados</td>\n",
       "      <td>0.036308</td>\n",
       "      <td>0.194274</td>\n",
       "      <td>0.253974</td>\n",
       "      <td>0.301842</td>\n",
       "      <td>0.114884</td>\n",
       "      <td>0.033779</td>\n",
       "      <td>0.006954</td>\n",
       "      <td>0.057984</td>\n",
       "    </tr>\n",
       "    <tr>\n",
       "      <th>2</th>\n",
       "      <td>Agua Fria</td>\n",
       "      <td>0.055393</td>\n",
       "      <td>0.219538</td>\n",
       "      <td>0.296974</td>\n",
       "      <td>0.285993</td>\n",
       "      <td>0.070360</td>\n",
       "      <td>0.013584</td>\n",
       "      <td>0.002603</td>\n",
       "      <td>0.055556</td>\n",
       "    </tr>\n",
       "  </tbody>\n",
       "</table>\n",
       "</div>"
      ],
      "text/plain": [
       "      bairro  Até 1/2 salário mínimo  Mais de 1/2 a 1 salário mínimo  \\\n",
       "0    Aflitos                0.002581                        0.012390   \n",
       "1   Afogados                0.036308                        0.194274   \n",
       "2  Agua Fria                0.055393                        0.219538   \n",
       "\n",
       "   Mais de 1 a 2 salários mínimos  Mais de 2 a 5 salários mínimos  \\\n",
       "0                        0.026846                        0.094476   \n",
       "1                        0.253974                        0.301842   \n",
       "2                        0.296974                        0.285993   \n",
       "\n",
       "   Mais de 5 a 10 salários mínimos  Mais de 10 a 20 salários mínimos  \\\n",
       "0                         0.223542                          0.308725   \n",
       "1                         0.114884                          0.033779   \n",
       "2                         0.070360                          0.013584   \n",
       "\n",
       "   Mais de 20 salários mínimos  Sem rendimento  \n",
       "0                     0.273619        0.057821  \n",
       "1                     0.006954        0.057984  \n",
       "2                     0.002603        0.055556  "
      ]
     },
     "execution_count": 167,
     "metadata": {},
     "output_type": "execute_result"
    }
   ],
   "source": [
    "neighborhood_income = pd.read_csv(\"data/renda_bairros.csv\",sep=',')\n",
    "\n",
    "# dados faltantes significam que não foram encontaradas pessoas em uma faixa de renda em certo bairro\n",
    "neighborhood_income.iloc[:,2:] = neighborhood_income.iloc[:,1:].fillna(0)\n",
    "\n",
    "# convertemos o número absoluto de pessoas em cada faixa de renda para uma porcentagem relativa ao tamanho do bairro\n",
    "# dessa forma evitamos distorções causadas por disparidades no tamanho da população de cada bairro\n",
    "neighborhood_income.iloc[:, 2:] = neighborhood_income.iloc[:, 2:].divide(neighborhood_income.iloc[:,1], axis = 'rows')\n",
    "\n",
    "neighborhood_income = neighborhood_income.drop(columns=['Total ¹'])\n",
    "neighborhood_income.head(3)"
   ]
  },
  {
   "cell_type": "markdown",
   "metadata": {},
   "source": [
    "## Pré processamento dos dados"
   ]
  },
  {
   "cell_type": "markdown",
   "metadata": {},
   "source": [
    "### Remoção de outliers\n",
    "\n",
    "O conjunto de dados possui 3 variáveis contínuas com grande variância, são elas: preço do imóvel, área útil e área extra. Através da plotagem do boxplot é possível verificar que existem outliers em todas essas variáveis, o que pode atraplhar de maneira significativa o desempenho de modelos de regressão.\n",
    "\n",
    "Sendo assim, a primeira etapa de pré processamente dos dados será a remoção das linhas em que umas dessas três variáveis é outlier."
   ]
  },
  {
   "cell_type": "code",
   "execution_count": 168,
   "metadata": {},
   "outputs": [
    {
     "name": "stdout",
     "output_type": "stream",
     "text": [
      "4531 linhas no dataset\n"
     ]
    },
    {
     "data": {
      "image/png": "[encoded data removed]",
      "text/plain": [
       "<matplotlib.figure.Figure at 0x7f30b7736898>"
      ]
     },
     "metadata": {},
     "output_type": "display_data"
    }
   ],
   "source": [
    "df_train.boxplot(column = ['preco'])\n",
    "original_size = len(df_train)\n",
    "print(\"{} linhas no dataset\".format(train_size))"
   ]
  },
  {
   "cell_type": "code",
   "execution_count": 169,
   "metadata": {
    "scrolled": true
   },
   "outputs": [
    {
     "name": "stdout",
     "output_type": "stream",
     "text": [
      "4531 linhas no dataset\n",
      "Diminuição de 3.25% no tamanho do conjunto de treino\n"
     ]
    },
    {
     "data": {
      "image/png": "[encoded data removed]",
      "text/plain": [
       "<matplotlib.figure.Figure at 0x7f30b3a51208>"
      ]
     },
     "metadata": {},
     "output_type": "display_data"
    }
   ],
   "source": [
    "columns = ['preco','area_extra','area_util']\n",
    "\n",
    "for column in columns:\n",
    "    df_train = df_train[np.abs(df_train[column] - df_train[column].mean()) <= (2 * df_train[column].std())]\n",
    "\n",
    "df_train.boxplot(column = ['preco'])\n",
    "\n",
    "print(\"{} linhas no dataset\".format(len(df_train['preco'])))\n",
    "redu = round(((original_size - len(df_train))/original_size)* 100,2)\n",
    "print(\"Diminuição de {}% no tamanho do conjunto de treino\".format(redu))"
   ]
  },
  {
   "cell_type": "markdown",
   "metadata": {},
   "source": [
    "Unificaremos agora os dados de treino e testes para aplicar as transformações necessárias e tornaremos a separar esses dados antes de realizar o treinamento dos modelos."
   ]
  },
  {
   "cell_type": "code",
   "execution_count": 170,
   "metadata": {
    "collapsed": true
   },
   "outputs": [],
   "source": [
    "train_size = len(df_train)\n",
    "df = pd.concat((df_train, df_test))"
   ]
  },
  {
   "cell_type": "markdown",
   "metadata": {},
   "source": [
    "### Agregação de dados de distribuição de renda\n",
    "\n",
    "Como forma de enriquecer o conjunto de treino, adicionamos 8 novas colunas referentes a distribuição de renda nos bairros. Alguns dos bairros presentes no conjunto de treino não são de fato bairros da cidade de Recife, mas sim pontos de referência ou subregiões. Nesses casos preencheremos essas linhas com uma distribuição uniforme de renda."
   ]
  },
  {
   "cell_type": "code",
   "execution_count": 171,
   "metadata": {},
   "outputs": [
    {
     "data": {
      "text/html": [
       "<div>\n",
       "<style scoped>\n",
       "    .dataframe tbody tr th:only-of-type {\n",
       "        vertical-align: middle;\n",
       "    }\n",
       "\n",
       "    .dataframe tbody tr th {\n",
       "        vertical-align: top;\n",
       "    }\n",
       "\n",
       "    .dataframe thead th {\n",
       "        text-align: right;\n",
       "    }\n",
       "</style>\n",
       "<table border=\"1\" class=\"dataframe\">\n",
       "  <thead>\n",
       "    <tr style=\"text-align: right;\">\n",
       "      <th></th>\n",
       "      <th>Id</th>\n",
       "      <th>tipo</th>\n",
       "      <th>bairro</th>\n",
       "      <th>tipo_vendedor</th>\n",
       "      <th>quartos</th>\n",
       "      <th>suites</th>\n",
       "      <th>vagas</th>\n",
       "      <th>area_util</th>\n",
       "      <th>area_extra</th>\n",
       "      <th>diferenciais</th>\n",
       "      <th>...</th>\n",
       "      <th>vista_mar</th>\n",
       "      <th>preco</th>\n",
       "      <th>meio_salario</th>\n",
       "      <th>meio_1_salario</th>\n",
       "      <th>1_2_salarios</th>\n",
       "      <th>2_5_salarios</th>\n",
       "      <th>5_10_salarios</th>\n",
       "      <th>10_20_salarios</th>\n",
       "      <th>20_salarios</th>\n",
       "      <th>sem_salario</th>\n",
       "    </tr>\n",
       "  </thead>\n",
       "  <tbody>\n",
       "    <tr>\n",
       "      <th>0</th>\n",
       "      <td>2000</td>\n",
       "      <td>Casa</td>\n",
       "      <td>Imbiribeira</td>\n",
       "      <td>Imobiliaria</td>\n",
       "      <td>3</td>\n",
       "      <td>3</td>\n",
       "      <td>5</td>\n",
       "      <td>223</td>\n",
       "      <td>167</td>\n",
       "      <td>piscina e copa</td>\n",
       "      <td>...</td>\n",
       "      <td>0</td>\n",
       "      <td>1e+06</td>\n",
       "      <td>0.041486</td>\n",
       "      <td>0.165743</td>\n",
       "      <td>0.224197</td>\n",
       "      <td>0.281916</td>\n",
       "      <td>0.154787</td>\n",
       "      <td>0.073218</td>\n",
       "      <td>0.017770</td>\n",
       "      <td>0.040884</td>\n",
       "    </tr>\n",
       "    <tr>\n",
       "      <th>1</th>\n",
       "      <td>2001</td>\n",
       "      <td>Apartamento</td>\n",
       "      <td>Casa Amarela</td>\n",
       "      <td>Imobiliaria</td>\n",
       "      <td>4</td>\n",
       "      <td>4</td>\n",
       "      <td>2</td>\n",
       "      <td>157</td>\n",
       "      <td>0</td>\n",
       "      <td>piscina e churrasqueira</td>\n",
       "      <td>...</td>\n",
       "      <td>0</td>\n",
       "      <td>680000</td>\n",
       "      <td>0.012156</td>\n",
       "      <td>0.101979</td>\n",
       "      <td>0.141028</td>\n",
       "      <td>0.269471</td>\n",
       "      <td>0.188038</td>\n",
       "      <td>0.153292</td>\n",
       "      <td>0.101764</td>\n",
       "      <td>0.032272</td>\n",
       "    </tr>\n",
       "    <tr>\n",
       "      <th>2</th>\n",
       "      <td>2002</td>\n",
       "      <td>Apartamento</td>\n",
       "      <td>Encruzilhada</td>\n",
       "      <td>Imobiliaria</td>\n",
       "      <td>3</td>\n",
       "      <td>1</td>\n",
       "      <td>0</td>\n",
       "      <td>53</td>\n",
       "      <td>0</td>\n",
       "      <td>nenhum</td>\n",
       "      <td>...</td>\n",
       "      <td>0</td>\n",
       "      <td>450000</td>\n",
       "      <td>0.003992</td>\n",
       "      <td>0.036427</td>\n",
       "      <td>0.066617</td>\n",
       "      <td>0.208084</td>\n",
       "      <td>0.285180</td>\n",
       "      <td>0.239521</td>\n",
       "      <td>0.147455</td>\n",
       "      <td>0.012725</td>\n",
       "    </tr>\n",
       "  </tbody>\n",
       "</table>\n",
       "<p>3 rows × 29 columns</p>\n",
       "</div>"
      ],
      "text/plain": [
       "     Id         tipo        bairro tipo_vendedor  quartos  suites  vagas  \\\n",
       "0  2000         Casa   Imbiribeira   Imobiliaria        3       3      5   \n",
       "1  2001  Apartamento  Casa Amarela   Imobiliaria        4       4      2   \n",
       "2  2002  Apartamento  Encruzilhada   Imobiliaria        3       1      0   \n",
       "\n",
       "   area_util  area_extra             diferenciais     ...       vista_mar  \\\n",
       "0        223         167           piscina e copa     ...               0   \n",
       "1        157           0  piscina e churrasqueira     ...               0   \n",
       "2         53           0                   nenhum     ...               0   \n",
       "\n",
       "    preco  meio_salario  meio_1_salario  1_2_salarios  2_5_salarios  \\\n",
       "0   1e+06      0.041486        0.165743      0.224197      0.281916   \n",
       "1  680000      0.012156        0.101979      0.141028      0.269471   \n",
       "2  450000      0.003992        0.036427      0.066617      0.208084   \n",
       "\n",
       "   5_10_salarios  10_20_salarios  20_salarios  sem_salario  \n",
       "0       0.154787        0.073218     0.017770     0.040884  \n",
       "1       0.188038        0.153292     0.101764     0.032272  \n",
       "2       0.285180        0.239521     0.147455     0.012725  \n",
       "\n",
       "[3 rows x 29 columns]"
      ]
     },
     "execution_count": 171,
     "metadata": {},
     "output_type": "execute_result"
    }
   ],
   "source": [
    "# adicionamos novas colunas vazias no dataset\n",
    "income_columns = ['meio_salario','meio_1_salario','1_2_salarios','2_5_salarios','5_10_salarios','10_20_salarios','20_salarios','sem_salario']\n",
    "df = pd.concat([df, df.reindex(columns = income_columns)], axis = 1)\n",
    "\n",
    "# tratamos dados que não são bairros de fato\n",
    "all_neighborhood = list(df.bairro.unique())\n",
    "\n",
    "skip_neighborhood = ['Beira Rio', 'Centro']\n",
    "neighborhood = list(set(all_neighborhood).symmetric_difference(skip_neighborhood))\n",
    "\n",
    "df.loc[df.bairro == 'Beira Rio', income_columns] = 1/len(income_columns)\n",
    "df.loc[df.bairro == 'Centro', income_columns] = 1/len(income_columns)\n",
    "\n",
    "# agergamos ao dataset os dados do conjunto de dados de renda média por bairro\n",
    "for neighborhood_name in neighborhood:\n",
    "        df.loc[df.bairro == neighborhood_name, income_columns] = neighborhood_income[neighborhood_income['bairro'] == neighborhood_name].iloc[:,1:].values\n",
    "\n",
    "df.head(3)"
   ]
  },
  {
   "cell_type": "markdown",
   "metadata": {},
   "source": [
    "### Binarização de variáveis\n",
    "\n",
    "Aplicaremos a técnica de **one hot encoding** para binarizar o bairro de cada imóvel. Logo, cada um desses bairros se tornará uma coluna binária que em cada linha terá valor 1 para um dos bairros e zero para todos os demais.\n",
    "\n",
    "Além disso, serão removidas as colunas *Id, tipo do vendedor e diferencial*. A coluna *¨Id¨* não agrega nenhuma informação aos dados, sendo apenas um identificador. As informações da coluna *¨diferencial¨* já estão contidas em outras colunas binárias. Por fim, a coluna *´tipo´* agrega poucas informação uma vez que mais de 95% dos dados estão preenchidos com o valor *¨imobiliária¨*.\n"
   ]
  },
  {
   "cell_type": "code",
   "execution_count": 112,
   "metadata": {
    "scrolled": true
   },
   "outputs": [],
   "source": [
    "hot_columns = pd.get_dummies(df['bairro'], prefix= 'bairro')\n",
    "df = pd.concat([df, hot_columns], axis = 1)\n",
    "df = df.drop(columns=['bairro'])"
   ]
  },
  {
   "cell_type": "markdown",
   "metadata": {},
   "source": [
    "### Normalização dos dados\n",
    "\n",
    "Por fim, normalizaremos as seguintes colunas: *¨area_util¨*, *´area_extra´* ,*´quartos´*, *´suites´* e *´vagas´*.\n",
    "\n",
    "Isso é feito ara que elas não tenham uma escala destoante dos demais dados. As demais colunas não precisam ser normalizas, visto que ou são binárias ou representam uma probabilidade *(valores entre 0 e 1)*.\n",
    "\n",
    "Utilizaremos a normalização do tipo **Min-Max**."
   ]
  },
  {
   "cell_type": "code",
   "execution_count": 172,
   "metadata": {},
   "outputs": [
    {
     "data": {
      "text/html": [
       "<div>\n",
       "<style scoped>\n",
       "    .dataframe tbody tr th:only-of-type {\n",
       "        vertical-align: middle;\n",
       "    }\n",
       "\n",
       "    .dataframe tbody tr th {\n",
       "        vertical-align: top;\n",
       "    }\n",
       "\n",
       "    .dataframe thead th {\n",
       "        text-align: right;\n",
       "    }\n",
       "</style>\n",
       "<table border=\"1\" class=\"dataframe\">\n",
       "  <thead>\n",
       "    <tr style=\"text-align: right;\">\n",
       "      <th></th>\n",
       "      <th>bairro</th>\n",
       "      <th>quartos</th>\n",
       "      <th>suites</th>\n",
       "      <th>vagas</th>\n",
       "      <th>area_util</th>\n",
       "      <th>area_extra</th>\n",
       "      <th>churrasqueira</th>\n",
       "      <th>estacionamento</th>\n",
       "      <th>piscina</th>\n",
       "      <th>playground</th>\n",
       "      <th>...</th>\n",
       "      <th>vista_mar</th>\n",
       "      <th>preco</th>\n",
       "      <th>meio_salario</th>\n",
       "      <th>meio_1_salario</th>\n",
       "      <th>1_2_salarios</th>\n",
       "      <th>2_5_salarios</th>\n",
       "      <th>5_10_salarios</th>\n",
       "      <th>10_20_salarios</th>\n",
       "      <th>20_salarios</th>\n",
       "      <th>sem_salario</th>\n",
       "    </tr>\n",
       "  </thead>\n",
       "  <tbody>\n",
       "    <tr>\n",
       "      <th>0</th>\n",
       "      <td>Imbiribeira</td>\n",
       "      <td>0.222222</td>\n",
       "      <td>0.500000</td>\n",
       "      <td>0.166667</td>\n",
       "      <td>0.076131</td>\n",
       "      <td>0.013847</td>\n",
       "      <td>0</td>\n",
       "      <td>0</td>\n",
       "      <td>1</td>\n",
       "      <td>0</td>\n",
       "      <td>...</td>\n",
       "      <td>0</td>\n",
       "      <td>1e+06</td>\n",
       "      <td>0.041486</td>\n",
       "      <td>0.165743</td>\n",
       "      <td>0.224197</td>\n",
       "      <td>0.281916</td>\n",
       "      <td>0.154787</td>\n",
       "      <td>0.073218</td>\n",
       "      <td>0.017770</td>\n",
       "      <td>0.040884</td>\n",
       "    </tr>\n",
       "    <tr>\n",
       "      <th>1</th>\n",
       "      <td>Casa Amarela</td>\n",
       "      <td>0.333333</td>\n",
       "      <td>0.666667</td>\n",
       "      <td>0.066667</td>\n",
       "      <td>0.051857</td>\n",
       "      <td>0.000000</td>\n",
       "      <td>1</td>\n",
       "      <td>0</td>\n",
       "      <td>1</td>\n",
       "      <td>0</td>\n",
       "      <td>...</td>\n",
       "      <td>0</td>\n",
       "      <td>680000</td>\n",
       "      <td>0.012156</td>\n",
       "      <td>0.101979</td>\n",
       "      <td>0.141028</td>\n",
       "      <td>0.269471</td>\n",
       "      <td>0.188038</td>\n",
       "      <td>0.153292</td>\n",
       "      <td>0.101764</td>\n",
       "      <td>0.032272</td>\n",
       "    </tr>\n",
       "    <tr>\n",
       "      <th>2</th>\n",
       "      <td>Encruzilhada</td>\n",
       "      <td>0.222222</td>\n",
       "      <td>0.166667</td>\n",
       "      <td>0.000000</td>\n",
       "      <td>0.013608</td>\n",
       "      <td>0.000000</td>\n",
       "      <td>0</td>\n",
       "      <td>0</td>\n",
       "      <td>0</td>\n",
       "      <td>0</td>\n",
       "      <td>...</td>\n",
       "      <td>0</td>\n",
       "      <td>450000</td>\n",
       "      <td>0.003992</td>\n",
       "      <td>0.036427</td>\n",
       "      <td>0.066617</td>\n",
       "      <td>0.208084</td>\n",
       "      <td>0.285180</td>\n",
       "      <td>0.239521</td>\n",
       "      <td>0.147455</td>\n",
       "      <td>0.012725</td>\n",
       "    </tr>\n",
       "  </tbody>\n",
       "</table>\n",
       "<p>3 rows × 25 columns</p>\n",
       "</div>"
      ],
      "text/plain": [
       "         bairro   quartos    suites     vagas  area_util  area_extra  \\\n",
       "0   Imbiribeira  0.222222  0.500000  0.166667   0.076131    0.013847   \n",
       "1  Casa Amarela  0.333333  0.666667  0.066667   0.051857    0.000000   \n",
       "2  Encruzilhada  0.222222  0.166667  0.000000   0.013608    0.000000   \n",
       "\n",
       "   churrasqueira  estacionamento  piscina  playground     ...       vista_mar  \\\n",
       "0              0               0        1           0     ...               0   \n",
       "1              1               0        1           0     ...               0   \n",
       "2              0               0        0           0     ...               0   \n",
       "\n",
       "    preco  meio_salario  meio_1_salario  1_2_salarios  2_5_salarios  \\\n",
       "0   1e+06      0.041486        0.165743      0.224197      0.281916   \n",
       "1  680000      0.012156        0.101979      0.141028      0.269471   \n",
       "2  450000      0.003992        0.036427      0.066617      0.208084   \n",
       "\n",
       "  5_10_salarios  10_20_salarios  20_salarios  sem_salario  \n",
       "0      0.154787        0.073218     0.017770     0.040884  \n",
       "1      0.188038        0.153292     0.101764     0.032272  \n",
       "2      0.285180        0.239521     0.147455     0.012725  \n",
       "\n",
       "[3 rows x 25 columns]"
      ]
     },
     "execution_count": 172,
     "metadata": {},
     "output_type": "execute_result"
    }
   ],
   "source": [
    "from sklearn.preprocessing import minmax_scale\n",
    "\n",
    "\n",
    "df[['area_util','area_extra','quartos','suites','vagas']] = minmax_scale(df[['area_util','area_extra','quartos','suites','vagas']])\n",
    "df = df.drop(columns=['Id','diferenciais','tipo_vendedor','tipo'])\n",
    "df.head(3)"
   ]
  },
  {
   "cell_type": "markdown",
   "metadata": {},
   "source": [
    "Agora que realizamos todas as transformações comuns ao conjunto de treino e de teste, tornaremos a separá-los em duas variáveis distintas."
   ]
  },
  {
   "cell_type": "code",
   "execution_count": 173,
   "metadata": {
    "collapsed": true
   },
   "outputs": [],
   "source": [
    "df_test = df.iloc[train_size:,:]\n",
    "df_test = df_test.drop(columns=['preco'])\n",
    "df = df.iloc[:train_size,:]\n",
    "df = df.convert_objects(convert_numeric=True)"
   ]
  },
  {
   "cell_type": "markdown",
   "metadata": {},
   "source": [
    "## Transformação da variável algo para distribuição normal\n",
    "\n",
    "Os preços de imóveis tendem a ter uma distribuição de cauda pesada, o que não é o mais adequado para a aplicação de modelos de regressão. Aplicaremos a transformação **log1p** do scikit-learn para aproximar essa distribuição de uma normal e assim melhorar eficiência dos modelos de regressão."
   ]
  },
  {
   "cell_type": "code",
   "execution_count": 115,
   "metadata": {},
   "outputs": [
    {
     "data": {
      "image/png": "[encoded data removed]",
      "text/plain": [
       "<matplotlib.figure.Figure at 0x7f30b791b9b0>"
      ]
     },
     "metadata": {},
     "output_type": "display_data"
    }
   ],
   "source": [
    "fig, axes = plt.subplots(1, 2, figsize=(15, 6))\n",
    "sns.distplot(df['preco'], fit = norm, ax = axes[0]);\n",
    "(mu, sigma) = norm.fit(df['preco'])\n",
    "\n",
    "axes[0].set_ylabel('Frequência relativa')\n",
    "axes[0].set_title('Valor do imóvel')\n",
    "\n",
    "\n",
    "stats.probplot(df['preco'], plot = axes[1])\n",
    "plt.show()"
   ]
  },
  {
   "cell_type": "markdown",
   "metadata": {},
   "source": [
    "Verificamos então como ficam os dados após a transformação:"
   ]
  },
  {
   "cell_type": "code",
   "execution_count": 116,
   "metadata": {},
   "outputs": [
    {
     "data": {
      "image/png": "[encoded data removed]",
      "text/plain": [
       "<matplotlib.figure.Figure at 0x7f30b7a2df60>"
      ]
     },
     "metadata": {},
     "output_type": "display_data"
    }
   ],
   "source": [
    "# aplicação da transformação\n",
    "df['preco'] = np.log1p(df['preco'])\n",
    "\n",
    "fig, axes = plt.subplots(1, 2, figsize=(15, 6))\n",
    "sns.distplot(df['preco'], fit = norm, ax = axes[0]);\n",
    "(mu, sigma) = norm.fit(df['preco'])\n",
    "\n",
    "axes[0].set_ylabel('Frequência relativa')\n",
    "axes[0].set_title('Valor do imóvel')\n",
    "\n",
    "\n",
    "stats.probplot(df['preco'], plot = axes[1])\n",
    "plt.show()"
   ]
  },
  {
   "cell_type": "markdown",
   "metadata": {},
   "source": [
    "Por fim, separamos o conjunto de treino em duas variáveis, uma referêntes aos parâmetros X para treinar ao modelo e outra referente ao ¨gabarito¨ Y."
   ]
  },
  {
   "cell_type": "code",
   "execution_count": 117,
   "metadata": {
    "collapsed": true
   },
   "outputs": [],
   "source": [
    "target = df['preco']\n",
    "parameters = df.copy().drop(columns=['preco'])"
   ]
  },
  {
   "cell_type": "markdown",
   "metadata": {
    "collapsed": true
   },
   "source": [
    "## Modelos"
   ]
  },
  {
   "cell_type": "markdown",
   "metadata": {},
   "source": [
    "Testaremos agora o desempenho de diferentes modelos de regressão na tarefa de predição do preço de imóveis. Foi dada prioridade na utilização dos modelos estudados na matéria *EEL891*, como forma de explorar os conceitos teóricos abordados em aula a sermos capazes de nos aprofundar nos ajustes finos e parametrizações disponíveis em cada um desses modelos.\n",
    "\n",
    "Os modelos de predição testados foram:\n",
    "\n",
    "- Regressão polinomial\n",
    "- Regressão Ridge\n",
    "- Regressão Lasso\n",
    "- Elastic Net\n",
    "- Ridge bayessiano\n",
    "- Florestas aleatórias\n",
    "- LGBM"
   ]
  },
  {
   "cell_type": "markdown",
   "metadata": {},
   "source": [
    "### Validação dos modelos\n",
    "\n",
    "Para a validação dos modelos treinados será utilizada a técnica de **validação cruzada**. A cada modelo serão feitas 5 execuções com validação cruzada e calculada a média dos resultados. A métrica de erro utilizada, como sugerido no desafio, será o **RMSPE**."
   ]
  },
  {
   "cell_type": "code",
   "execution_count": 119,
   "metadata": {
    "collapsed": true
   },
   "outputs": [],
   "source": [
    "from sklearn.model_selection import cross_val_score\n",
    "from sklearn.metrics import fbeta_score, make_scorer\n",
    "\n",
    "# número de folds na validação cruzadas\n",
    "cv_number = 5\n",
    "\n",
    "# função RMSPE a ser utilizada como métrica de erro\n",
    "def rmspe(y_pred, y):\n",
    "    rmspe = np.sqrt(np.mean( (1/ y**2) * (y_pred - y)**2 ))\n",
    "    return rmspe\n",
    "\n",
    "rmspe_score = make_scorer(rmspe, greater_is_better=False)\n",
    "\n",
    "## dataset para armazenar o resultado dos modelos\n",
    "results = pd.DataFrame([], columns = ['mean', 'std'])"
   ]
  },
  {
   "cell_type": "code",
   "execution_count": 120,
   "metadata": {},
   "outputs": [],
   "source": [
    "from sklearn import linear_model\n",
    "from sklearn.pipeline import Pipeline\n",
    "\n",
    "polynomial = Pipeline([('poly', PolynomialFeatures(degree=2)),('linear',linear_model.LinearRegression(copy_X =  True))]) \n",
    "\n",
    "scores = cross_val_score(polynomial,\n",
    "                         parameters,\n",
    "                         target,\n",
    "                         scoring = rmspe_score,\n",
    "                         cv = 2)\n",
    "\n",
    "results.loc['Polynomial'] = [-scores.mean(), scores.std()]"
   ]
  },
  {
   "cell_type": "markdown",
   "metadata": {},
   "source": [
    "### Ridge Regression"
   ]
  },
  {
   "cell_type": "code",
   "execution_count": 126,
   "metadata": {},
   "outputs": [
    {
     "name": "stdout",
     "output_type": "stream",
     "text": [
      "Melhor resultado obtido com alpha = 0.015014028056112225, resultado obtido: 0.020369802075933002\n"
     ]
    },
    {
     "data": {
      "text/plain": [
       "[<matplotlib.lines.Line2D at 0x7f30b7aaf400>]"
      ]
     },
     "execution_count": 126,
     "metadata": {},
     "output_type": "execute_result"
    },
    {
     "data": {
      "image/png": "[encoded data removed]",
      "text/plain": [
       "<matplotlib.figure.Figure at 0x7f30b7821a20>"
      ]
     },
     "metadata": {},
     "output_type": "display_data"
    }
   ],
   "source": [
    "from sklearn.preprocessing import PolynomialFeatures\n",
    "\n",
    "# iteramos em um intervalo de alpha que pensamos ser o mais proveitoso, de forma a achar o alpha ótimo ou ao menos um\n",
    "# mínimo local\n",
    "\n",
    "ridge_alpha_tunning = []\n",
    "\n",
    "domain = list(np.linspace(0.001,1,500))\n",
    "for alpha_value in domain:    \n",
    "    ridge = linear_model.Ridge(alpha = alpha_value, max_iter = 1000, random_state = 161095)\n",
    "    scores = cross_val_score(ridge,\n",
    "                             parameters,\n",
    "                             target,\n",
    "                             scoring = rmspe_score,\n",
    "                             cv = cv_number)\n",
    "    ridge_alpha_tunning.append(-np.mean(scores))\n",
    "\n",
    "# removemos alhpas muito grandes (em alguns casos descontinuidades) para facilitar a plotagem dos resultados\n",
    "while max(ridge_alpha_tunning) > 1:\n",
    "        index  = ridge_alpha_tunning.index(max(ridge_alpha_tunning))\n",
    "        del domain[index]\n",
    "        del ridge_alpha_tunning[index]\n",
    "        \n",
    "best_alpha = domain[ridge_alpha_tunning.index(min(ridge_alpha_tunning))]\n",
    "ridge = linear_model.Ridge(alpha = best_alpha, max_iter = 1000, random_state = 161095)\n",
    "scores = cross_val_score(ridge,\n",
    "                         parameters,\n",
    "                         target,\n",
    "                         scoring = rmspe_score,\n",
    "                         cv = cv_number)\n",
    "\n",
    "# salvamos o resultado do melhor alpha em nosso dataframe de resultados\n",
    "results.loc['Ridge'] = [-scores.mean(), scores.std()]\n",
    "\n",
    "print(\"Melhor resultado obtido com alpha = {}, resultado obtido: {}\".format(best_alpha, min(ridge_alpha_tunning)))\n",
    "\n",
    "plt.plot(domain, ridge_alpha_tunning, color='b')"
   ]
  },
  {
   "cell_type": "markdown",
   "metadata": {},
   "source": [
    "### Lasso regression"
   ]
  },
  {
   "cell_type": "code",
   "execution_count": 133,
   "metadata": {},
   "outputs": [
    {
     "name": "stdout",
     "output_type": "stream",
     "text": [
      "Melhor resultado obtido com alpha = 7.006012024048097e-05, resultado obtido: 0.02030279461122746\n"
     ]
    },
    {
     "data": {
      "text/plain": [
       "[<matplotlib.lines.Line2D at 0x7f30b3a2c0f0>]"
      ]
     },
     "execution_count": 133,
     "metadata": {},
     "output_type": "execute_result"
    },
    {
     "data": {
      "image/png": "[encoded data removed]",
      "text/plain": [
       "<matplotlib.figure.Figure at 0x7f30b3b54cf8>"
      ]
     },
     "metadata": {},
     "output_type": "display_data"
    }
   ],
   "source": [
    "lasso_alpha_tunning = []\n",
    "domain = list(np.linspace(0.00001,0.01,500))\n",
    "for alpha_value in domain:    \n",
    "    lasso = linear_model.Lasso(alpha = alpha_value,random_state = 161095)\n",
    "    scores = cross_val_score(lasso,\n",
    "                             parameters,\n",
    "                             target,\n",
    "                             scoring = rmspe_score,\n",
    "                             cv = cv_number)\n",
    "    lasso_alpha_tunning.append(-np.mean(scores))\n",
    "\n",
    "\n",
    "while max(lasso_alpha_tunning) > 1:\n",
    "        index  = lasso_alpha_tunning.index(max(lasso_alpha_tunning))\n",
    "        del domain[index]\n",
    "        del lasso_alpha_tunning[index]\n",
    "        \n",
    "best_alpha = domain[lasso_alpha_tunning.index(min(lasso_alpha_tunning))]\n",
    "lasso = linear_model.Lasso(alpha = alpha_value,random_state = 161095, max_iter = 3000)\n",
    "scores = cross_val_score(lasso,\n",
    "                         parameters,\n",
    "                         target,\n",
    "                         scoring = rmspe_score,\n",
    "                         cv = cv_number)\n",
    "\n",
    "results.loc['Lasoo'] = [-scores.mean(), scores.std()]\n",
    "\n",
    "print(\"Melhor resultado obtido com alpha = {}, resultado obtido: {}\".format(domain[lasso_alpha_tunning.index(min(lasso_alpha_tunning))],min(lasso_alpha_tunning)))\n",
    "plt.plot(domain, lasso_alpha_tunning, color='b')"
   ]
  },
  {
   "cell_type": "markdown",
   "metadata": {},
   "source": [
    "### Elastic Net"
   ]
  },
  {
   "cell_type": "code",
   "execution_count": 134,
   "metadata": {},
   "outputs": [
    {
     "name": "stdout",
     "output_type": "stream",
     "text": [
      "Melhor resultado obtido com alpha = 1e-05, resultado obtido: 0.02035855871834857\n"
     ]
    },
    {
     "data": {
      "text/plain": [
       "[<matplotlib.lines.Line2D at 0x7f30b3a0c8d0>]"
      ]
     },
     "execution_count": 134,
     "metadata": {},
     "output_type": "execute_result"
    },
    {
     "data": {
      "image/png": "[encoded data removed]",
      "text/plain": [
       "<matplotlib.figure.Figure at 0x7f30b3a49160>"
      ]
     },
     "metadata": {},
     "output_type": "display_data"
    }
   ],
   "source": [
    "from sklearn.linear_model import ElasticNet\n",
    "\n",
    "elastic_alpha_tunning = []\n",
    "domain = list(np.linspace(0.000001,0.01,500))\n",
    "for alpha_value in domain:    \n",
    "    elastic_net = ElasticNet(alpha = alpha_value, l1_ratio= 0.6, copy_X = True,random_state = 161095)\n",
    "    scores = cross_val_score(elastic_net,\n",
    "                             parameters,\n",
    "                             target,\n",
    "                             scoring = rmspe_score,\n",
    "                             cv = cv_number)\n",
    "    elastic_alpha_tunning.append(-np.mean(scores))\n",
    "\n",
    "\n",
    "while max(elastic_alpha_tunning) > 1:\n",
    "        index  = elastic_alpha_tunning.index(max(elastic_alpha_tunning))\n",
    "        del domain[index]\n",
    "        del elastic_alpha_tunning[index]\n",
    "        \n",
    "best_alpha = domain[elastic_alpha_tunning.index(min(elastic_alpha_tunning))]\n",
    "elastic_net = ElasticNet(alpha = alpha_value, l1_ratio= 0.6, copy_X = True,random_state = 161095)\n",
    "scores = cross_val_score(elastic_net,\n",
    "                         parameters,\n",
    "                         target,\n",
    "                         scoring = rmspe_score,\n",
    "                         cv = cv_number)\n",
    "\n",
    "results.loc['ElasticNet'] = [-scores.mean(), scores.std()]\n",
    "        \n",
    "print(\"Melhor resultado obtido com alpha = {}, resultado obtido: {}\".format(domain[elastic_alpha_tunning.index(min(elastic_alpha_tunning))],min(elastic_alpha_tunning)))\n",
    "plt.plot(domain, elastic_alpha_tunning, color='b')"
   ]
  },
  {
   "cell_type": "markdown",
   "metadata": {},
   "source": [
    "### Bayesian Ridge"
   ]
  },
  {
   "cell_type": "code",
   "execution_count": 121,
   "metadata": {
    "collapsed": true
   },
   "outputs": [],
   "source": [
    "from sklearn.linear_model import BayesianRidge\n",
    "\n",
    "bayesian_ridge = BayesianRidge()\n",
    "\n",
    "scores = cross_val_score(bayesian_ridge,\n",
    "                         parameters,\n",
    "                         target,\n",
    "                         scoring = rmspe_score,\n",
    "                         cv = cv_number)\n",
    "\n",
    "results.loc['BayesianRidge'] = [-scores.mean(), scores.std()]"
   ]
  },
  {
   "cell_type": "markdown",
   "metadata": {},
   "source": [
    "### Random Forest"
   ]
  },
  {
   "cell_type": "code",
   "execution_count": 122,
   "metadata": {
    "collapsed": true
   },
   "outputs": [],
   "source": [
    "from sklearn.ensemble import RandomForestRegressor\n",
    "\n",
    "random_forest = RandomForestRegressor(n_estimators = 100)\n",
    "\n",
    "scores = cross_val_score(random_forest,\n",
    "                         parameters,\n",
    "                         target,\n",
    "                         scoring = rmspe_score,\n",
    "                         cv = cv_number)\n",
    "\n",
    "results.loc['RandomForest'] = [-scores.mean(), scores.std()]"
   ]
  },
  {
   "cell_type": "markdown",
   "metadata": {},
   "source": [
    "### LGBoost"
   ]
  },
  {
   "cell_type": "code",
   "execution_count": 123,
   "metadata": {},
   "outputs": [],
   "source": [
    "import lightgbm as lgb\n",
    "\n",
    "lgbm = lgb.LGBMRegressor(objective='regression',num_leaves=5,\n",
    "                              learning_rate = 0.1, n_estimators=720,\n",
    "                              max_bin = 55, bagging_fraction = 0.8,\n",
    "                              bagging_freq = 5, feature_fraction = 0.2319,\n",
    "                              feature_fraction_seed=9, bagging_seed=9,\n",
    "                              min_data_in_leaf = 3, min_sum_hessian_in_leaf = 5)\n",
    "\n",
    "scores = cross_val_score(lgbm,\n",
    "                         parameters,\n",
    "                         target,\n",
    "                         scoring = rmspe_score,\n",
    "                         cv = cv_number)\n",
    "\n",
    "results.loc['LGBM'] = [-scores.mean(), scores.std()]"
   ]
  },
  {
   "cell_type": "markdown",
   "metadata": {},
   "source": [
    "### KNN"
   ]
  },
  {
   "cell_type": "code",
   "execution_count": 124,
   "metadata": {},
   "outputs": [],
   "source": [
    "from sklearn.neighbors import KNeighborsRegressor\n",
    "\n",
    "knn = KNeighborsRegressor()\n",
    "\n",
    "scores = cross_val_score(knn,\n",
    "                         parameters,\n",
    "                         target,\n",
    "                         scoring = rmspe_score,\n",
    "                         cv = cv_number)\n",
    "\n",
    "results.loc['KNeighbors'] = [-scores.mean(), scores.std()]"
   ]
  },
  {
   "cell_type": "code",
   "execution_count": 135,
   "metadata": {},
   "outputs": [
    {
     "data": {
      "text/html": [
       "<div>\n",
       "<style scoped>\n",
       "    .dataframe tbody tr th:only-of-type {\n",
       "        vertical-align: middle;\n",
       "    }\n",
       "\n",
       "    .dataframe tbody tr th {\n",
       "        vertical-align: top;\n",
       "    }\n",
       "\n",
       "    .dataframe thead th {\n",
       "        text-align: right;\n",
       "    }\n",
       "</style>\n",
       "<table border=\"1\" class=\"dataframe\">\n",
       "  <thead>\n",
       "    <tr style=\"text-align: right;\">\n",
       "      <th></th>\n",
       "      <th>mean</th>\n",
       "      <th>std</th>\n",
       "    </tr>\n",
       "  </thead>\n",
       "  <tbody>\n",
       "    <tr>\n",
       "      <th>Polynomial</th>\n",
       "      <td>0.276174</td>\n",
       "      <td>0.015512</td>\n",
       "    </tr>\n",
       "    <tr>\n",
       "      <th>BayesianRidge</th>\n",
       "      <td>0.020379</td>\n",
       "      <td>0.002045</td>\n",
       "    </tr>\n",
       "    <tr>\n",
       "      <th>RandomForest</th>\n",
       "      <td>0.018900</td>\n",
       "      <td>0.002284</td>\n",
       "    </tr>\n",
       "    <tr>\n",
       "      <th>LGBM</th>\n",
       "      <td>0.018779</td>\n",
       "      <td>0.002050</td>\n",
       "    </tr>\n",
       "    <tr>\n",
       "      <th>KNeighbors</th>\n",
       "      <td>0.026551</td>\n",
       "      <td>0.001757</td>\n",
       "    </tr>\n",
       "    <tr>\n",
       "      <th>Ridge</th>\n",
       "      <td>0.020370</td>\n",
       "      <td>0.002050</td>\n",
       "    </tr>\n",
       "    <tr>\n",
       "      <th>Lasoo</th>\n",
       "      <td>0.027245</td>\n",
       "      <td>0.001880</td>\n",
       "    </tr>\n",
       "    <tr>\n",
       "      <th>ElasticNet</th>\n",
       "      <td>0.026906</td>\n",
       "      <td>0.001828</td>\n",
       "    </tr>\n",
       "  </tbody>\n",
       "</table>\n",
       "</div>"
      ],
      "text/plain": [
       "                   mean       std\n",
       "Polynomial     0.276174  0.015512\n",
       "BayesianRidge  0.020379  0.002045\n",
       "RandomForest   0.018900  0.002284\n",
       "LGBM           0.018779  0.002050\n",
       "KNeighbors     0.026551  0.001757\n",
       "Ridge          0.020370  0.002050\n",
       "Lasoo          0.027245  0.001880\n",
       "ElasticNet     0.026906  0.001828"
      ]
     },
     "execution_count": 135,
     "metadata": {},
     "output_type": "execute_result"
    }
   ],
   "source": [
    "results"
   ]
  },
  {
   "cell_type": "markdown",
   "metadata": {},
   "source": [
    "## Conclusões e submissões\n",
    "\n"
   ]
  },
  {
   "cell_type": "code",
   "execution_count": 153,
   "metadata": {
    "collapsed": true
   },
   "outputs": [],
   "source": [
    "result = pd.DataFrame()\n",
    "result['Id'] = test_ids"
   ]
  },
  {
   "cell_type": "code",
   "execution_count": 157,
   "metadata": {},
   "outputs": [],
   "source": [
    "lgbm = random_forest = RandomForestRegressor(n_estimators = 100)\n",
    "\n",
    "lgbm.fit(parameters, target)\n",
    "lgbm_predictions = lgbm.predict(df_test)\n",
    "\n",
    "transform_predict = np.expm1(lgbm_predictions)\n",
    "result['preco'] = transform_predict"
   ]
  },
  {
   "cell_type": "code",
   "execution_count": 158,
   "metadata": {
    "collapsed": true
   },
   "outputs": [],
   "source": [
    "result.to_csv('submission.csv', index=False)"
   ]
  }
 ],
 "metadata": {
  "kernelspec": {
   "display_name": "Python 3",
   "language": "python",
   "name": "python3"
  },
  "language_info": {
   "codemirror_mode": {
    "name": "ipython",
    "version": 3
   },
   "file_extension": ".py",
   "mimetype": "text/x-python",
   "name": "python",
   "nbconvert_exporter": "python",
   "pygments_lexer": "ipython3",
   "version": "3.6.3"
  }
 },
 "nbformat": 4,
 "nbformat_minor": 2
}
