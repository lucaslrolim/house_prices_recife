{
 "cells": [
  {
   "cell_type": "code",
   "execution_count": 818,
   "metadata": {
    "collapsed": true
   },
   "outputs": [],
   "source": [
    "import pandas as pd\n",
    "import matplotlib as pl\n",
    "import matplotlib.pyplot as plt\n",
    "import numpy as np\n",
    "from sklearn import preprocessing\n",
    "from scipy.stats import norm, skew\n",
    "from scipy import stats\n",
    "import seaborn as sns\n",
    "%matplotlib inline\n",
    "import warnings\n",
    "warnings.filterwarnings('ignore')"
   ]
  },
  {
   "cell_type": "markdown",
   "metadata": {},
   "source": [
    "## Resumo e objetivos\n",
    "\n",
    "Essa análise foi desenvolvida pelo aluno Lucas Rolim como parte da disciplina de Introdução ao Aprendizado de Máquina *(EEL891)* ofertada pelo Departamento de Eletrônica da Universidade Federal do Rio de Janeiro em 2018.2.\n",
    "\n",
    "O objetivo do trabalho é desenvolver um modelo capaz de prever o preço de imóveis na cidade de Recife. Para tal será utilizado o conjunto de dados fornecido no desafio do Kaggle da matéria e também um conjunto de dados minerado da web sobre distribuição de renda nos bairros da cidade.\n",
    "\n",
    "Será posto a prova o desemprenho da maior parte de modelos de regressão disponíveis na biblioteca scikit-learn, bem como modelos externos como LGBM e xGBoost."
   ]
  },
  {
   "cell_type": "markdown",
   "metadata": {},
   "source": [
    "## Conjuntos de dados"
   ]
  },
  {
   "cell_type": "markdown",
   "metadata": {},
   "source": [
    "O conjunto de dados utilizado é referente a dados minerados de anúncios online de venda imóveis na cidade pernambucana de Recife. O conjunto foi disponibilizado no desafio da disciplina DEL/UFRJ - EEL891. "
   ]
  },
  {
   "cell_type": "code",
   "execution_count": 819,
   "metadata": {
    "scrolled": true
   },
   "outputs": [
    {
     "data": {
      "text/html": [
       "<div>\n",
       "<style scoped>\n",
       "    .dataframe tbody tr th:only-of-type {\n",
       "        vertical-align: middle;\n",
       "    }\n",
       "\n",
       "    .dataframe tbody tr th {\n",
       "        vertical-align: top;\n",
       "    }\n",
       "\n",
       "    .dataframe thead th {\n",
       "        text-align: right;\n",
       "    }\n",
       "</style>\n",
       "<table border=\"1\" class=\"dataframe\">\n",
       "  <thead>\n",
       "    <tr style=\"text-align: right;\">\n",
       "      <th></th>\n",
       "      <th>Id</th>\n",
       "      <th>tipo</th>\n",
       "      <th>bairro</th>\n",
       "      <th>tipo_vendedor</th>\n",
       "      <th>quartos</th>\n",
       "      <th>suites</th>\n",
       "      <th>vagas</th>\n",
       "      <th>area_util</th>\n",
       "      <th>area_extra</th>\n",
       "      <th>diferenciais</th>\n",
       "      <th>...</th>\n",
       "      <th>estacionamento</th>\n",
       "      <th>piscina</th>\n",
       "      <th>playground</th>\n",
       "      <th>quadra</th>\n",
       "      <th>s_festas</th>\n",
       "      <th>s_jogos</th>\n",
       "      <th>s_ginastica</th>\n",
       "      <th>sauna</th>\n",
       "      <th>vista_mar</th>\n",
       "      <th>preco</th>\n",
       "    </tr>\n",
       "  </thead>\n",
       "  <tbody>\n",
       "    <tr>\n",
       "      <th>0</th>\n",
       "      <td>2000</td>\n",
       "      <td>Casa</td>\n",
       "      <td>Imbiribeira</td>\n",
       "      <td>Imobiliaria</td>\n",
       "      <td>3</td>\n",
       "      <td>3</td>\n",
       "      <td>5</td>\n",
       "      <td>223</td>\n",
       "      <td>167</td>\n",
       "      <td>piscina e copa</td>\n",
       "      <td>...</td>\n",
       "      <td>0</td>\n",
       "      <td>1</td>\n",
       "      <td>0</td>\n",
       "      <td>0</td>\n",
       "      <td>0</td>\n",
       "      <td>0</td>\n",
       "      <td>0</td>\n",
       "      <td>0</td>\n",
       "      <td>0</td>\n",
       "      <td>1000000.0</td>\n",
       "    </tr>\n",
       "    <tr>\n",
       "      <th>1</th>\n",
       "      <td>2001</td>\n",
       "      <td>Apartamento</td>\n",
       "      <td>Casa Amarela</td>\n",
       "      <td>Imobiliaria</td>\n",
       "      <td>4</td>\n",
       "      <td>4</td>\n",
       "      <td>2</td>\n",
       "      <td>157</td>\n",
       "      <td>0</td>\n",
       "      <td>piscina e churrasqueira</td>\n",
       "      <td>...</td>\n",
       "      <td>0</td>\n",
       "      <td>1</td>\n",
       "      <td>0</td>\n",
       "      <td>0</td>\n",
       "      <td>0</td>\n",
       "      <td>0</td>\n",
       "      <td>0</td>\n",
       "      <td>0</td>\n",
       "      <td>0</td>\n",
       "      <td>680000.0</td>\n",
       "    </tr>\n",
       "    <tr>\n",
       "      <th>2</th>\n",
       "      <td>2002</td>\n",
       "      <td>Apartamento</td>\n",
       "      <td>Encruzilhada</td>\n",
       "      <td>Imobiliaria</td>\n",
       "      <td>3</td>\n",
       "      <td>1</td>\n",
       "      <td>0</td>\n",
       "      <td>53</td>\n",
       "      <td>0</td>\n",
       "      <td>nenhum</td>\n",
       "      <td>...</td>\n",
       "      <td>0</td>\n",
       "      <td>0</td>\n",
       "      <td>0</td>\n",
       "      <td>0</td>\n",
       "      <td>0</td>\n",
       "      <td>0</td>\n",
       "      <td>0</td>\n",
       "      <td>0</td>\n",
       "      <td>0</td>\n",
       "      <td>450000.0</td>\n",
       "    </tr>\n",
       "  </tbody>\n",
       "</table>\n",
       "<p>3 rows × 21 columns</p>\n",
       "</div>"
      ],
      "text/plain": [
       "     Id         tipo        bairro tipo_vendedor  quartos  suites  vagas  \\\n",
       "0  2000         Casa   Imbiribeira   Imobiliaria        3       3      5   \n",
       "1  2001  Apartamento  Casa Amarela   Imobiliaria        4       4      2   \n",
       "2  2002  Apartamento  Encruzilhada   Imobiliaria        3       1      0   \n",
       "\n",
       "   area_util  area_extra             diferenciais    ...      estacionamento  \\\n",
       "0        223         167           piscina e copa    ...                   0   \n",
       "1        157           0  piscina e churrasqueira    ...                   0   \n",
       "2         53           0                   nenhum    ...                   0   \n",
       "\n",
       "   piscina  playground  quadra  s_festas  s_jogos  s_ginastica  sauna  \\\n",
       "0        1           0       0         0        0            0      0   \n",
       "1        1           0       0         0        0            0      0   \n",
       "2        0           0       0         0        0            0      0   \n",
       "\n",
       "   vista_mar      preco  \n",
       "0          0  1000000.0  \n",
       "1          0   680000.0  \n",
       "2          0   450000.0  \n",
       "\n",
       "[3 rows x 21 columns]"
      ]
     },
     "execution_count": 819,
     "metadata": {},
     "output_type": "execute_result"
    }
   ],
   "source": [
    "df_train = pd.read_csv(\"data/train.csv\",sep=',')\n",
    "df_test = pd.read_csv(\"data/test.csv\",sep=',')\n",
    "\n",
    "# salvamos os ids do conjunto de testes para adicionar posteiromente em nosso dataset de submissão para o Kaggle\n",
    "# além disso adicionamos uma coluna temporária de preço no conjunto de testes, de modo a o deixar com a mesma\n",
    "# dimensão do conjunto de treino, facilitando assim transformações nesses dados\n",
    "\n",
    "test_ids = df_test['Id']\n",
    "df_test['preco'] = None\n",
    "\n",
    "train_size = len(df_train)\n",
    "df_train.head(3)"
   ]
  },
  {
   "cell_type": "markdown",
   "metadata": {},
   "source": [
    "Através da matriz de correlação somos capazes de notar uma alta correlação entre a variável *¨quartos¨* e as demais, bem como uma forte relação entre as variáveis *¨piscina¨* e *¨churrasqueira¨*. Essas variáveis, portanto, serão desconsideradas em nosso modelo."
   ]
  },
  {
   "cell_type": "code",
   "execution_count": 820,
   "metadata": {},
   "outputs": [
    {
     "data": {
      "image/png": "[encoded data removed]",
      "text/plain": [
       "<matplotlib.figure.Figure at 0x7f1f0d3fd668>"
      ]
     },
     "metadata": {},
     "output_type": "display_data"
    }
   ],
   "source": [
    "corrmat = abs(df_train.drop('Id', axis = 1).corr())\n",
    "f, ax = plt.subplots(figsize=(5, 5))\n",
    "sns.heatmap(corrmat, vmax=.8, square=True);"
   ]
  },
  {
   "cell_type": "markdown",
   "metadata": {},
   "source": [
    "Além do conjunto de treino fornecido no desafio, será utilizado também um conjunto de informações complemetares, disponibilizadas publicamente pelo governo de Pernambuco no site do [Banco de dados do Estado](http://www.bde.pe.gov.br/visualizacao/Visualizacao_formato2.aspx?CodInformacao=1162&Cod=3). Essas informações são referentes a distribuição de renda média dentro de cada um dos bairros da cidade de Recife e foram coletados no ano de 2010."
   ]
  },
  {
   "cell_type": "code",
   "execution_count": 821,
   "metadata": {
    "scrolled": true
   },
   "outputs": [
    {
     "data": {
      "text/html": [
       "<div>\n",
       "<style scoped>\n",
       "    .dataframe tbody tr th:only-of-type {\n",
       "        vertical-align: middle;\n",
       "    }\n",
       "\n",
       "    .dataframe tbody tr th {\n",
       "        vertical-align: top;\n",
       "    }\n",
       "\n",
       "    .dataframe thead th {\n",
       "        text-align: right;\n",
       "    }\n",
       "</style>\n",
       "<table border=\"1\" class=\"dataframe\">\n",
       "  <thead>\n",
       "    <tr style=\"text-align: right;\">\n",
       "      <th></th>\n",
       "      <th>bairro</th>\n",
       "      <th>Até 1/2 salário mínimo</th>\n",
       "      <th>Mais de 1/2 a 1 salário mínimo</th>\n",
       "      <th>Mais de 1 a 2 salários mínimos</th>\n",
       "      <th>Mais de 2 a 5 salários mínimos</th>\n",
       "      <th>Mais de 5 a 10 salários mínimos</th>\n",
       "      <th>Mais de 10 a 20 salários mínimos</th>\n",
       "      <th>Mais de 20 salários mínimos</th>\n",
       "      <th>Sem rendimento</th>\n",
       "    </tr>\n",
       "  </thead>\n",
       "  <tbody>\n",
       "    <tr>\n",
       "      <th>0</th>\n",
       "      <td>Aflitos</td>\n",
       "      <td>0.002581</td>\n",
       "      <td>0.012390</td>\n",
       "      <td>0.026846</td>\n",
       "      <td>0.094476</td>\n",
       "      <td>0.223542</td>\n",
       "      <td>0.308725</td>\n",
       "      <td>0.273619</td>\n",
       "      <td>0.057821</td>\n",
       "    </tr>\n",
       "    <tr>\n",
       "      <th>1</th>\n",
       "      <td>Afogados</td>\n",
       "      <td>0.036308</td>\n",
       "      <td>0.194274</td>\n",
       "      <td>0.253974</td>\n",
       "      <td>0.301842</td>\n",
       "      <td>0.114884</td>\n",
       "      <td>0.033779</td>\n",
       "      <td>0.006954</td>\n",
       "      <td>0.057984</td>\n",
       "    </tr>\n",
       "    <tr>\n",
       "      <th>2</th>\n",
       "      <td>Agua Fria</td>\n",
       "      <td>0.055393</td>\n",
       "      <td>0.219538</td>\n",
       "      <td>0.296974</td>\n",
       "      <td>0.285993</td>\n",
       "      <td>0.070360</td>\n",
       "      <td>0.013584</td>\n",
       "      <td>0.002603</td>\n",
       "      <td>0.055556</td>\n",
       "    </tr>\n",
       "  </tbody>\n",
       "</table>\n",
       "</div>"
      ],
      "text/plain": [
       "      bairro  Até 1/2 salário mínimo  Mais de 1/2 a 1 salário mínimo  \\\n",
       "0    Aflitos                0.002581                        0.012390   \n",
       "1   Afogados                0.036308                        0.194274   \n",
       "2  Agua Fria                0.055393                        0.219538   \n",
       "\n",
       "   Mais de 1 a 2 salários mínimos  Mais de 2 a 5 salários mínimos  \\\n",
       "0                        0.026846                        0.094476   \n",
       "1                        0.253974                        0.301842   \n",
       "2                        0.296974                        0.285993   \n",
       "\n",
       "   Mais de 5 a 10 salários mínimos  Mais de 10 a 20 salários mínimos  \\\n",
       "0                         0.223542                          0.308725   \n",
       "1                         0.114884                          0.033779   \n",
       "2                         0.070360                          0.013584   \n",
       "\n",
       "   Mais de 20 salários mínimos  Sem rendimento  \n",
       "0                     0.273619        0.057821  \n",
       "1                     0.006954        0.057984  \n",
       "2                     0.002603        0.055556  "
      ]
     },
     "execution_count": 821,
     "metadata": {},
     "output_type": "execute_result"
    }
   ],
   "source": [
    "neighborhood_income = pd.read_csv(\"data/renda_bairros.csv\",sep=',')\n",
    "\n",
    "# dados faltantes significam que não foram encontaradas pessoas em uma faixa de renda em certo bairro\n",
    "neighborhood_income.iloc[:,2:] = neighborhood_income.iloc[:,1:].fillna(0)\n",
    "\n",
    "# convertemos o número absoluto de pessoas em cada faixa de renda para uma porcentagem relativa ao tamanho do bairro\n",
    "# dessa forma evitamos distorções causadas por disparidades no tamanho da população de cada bairro\n",
    "neighborhood_income.iloc[:, 2:] = neighborhood_income.iloc[:, 2:].divide(neighborhood_income.iloc[:,1], axis = 'rows')\n",
    "\n",
    "neighborhood_income = neighborhood_income.drop(columns=['Total ¹'])\n",
    "neighborhood_income.head(3)"
   ]
  },
  {
   "cell_type": "markdown",
   "metadata": {},
   "source": [
    "Fazendo uma matriz de correlação desses dados notamos uma alta relação entre quase todas as variáveis. Sendo assim, temos um indicativo de que talvez seja mais vantajoso selecionar apenas algumas dessas colunas para agregar em nosso conjunto de dados inicial."
   ]
  },
  {
   "cell_type": "code",
   "execution_count": 822,
   "metadata": {},
   "outputs": [
    {
     "data": {
      "image/png": "[encoded data removed]",
      "text/plain": [
       "<matplotlib.figure.Figure at 0x7f1f2495c4e0>"
      ]
     },
     "metadata": {},
     "output_type": "display_data"
    }
   ],
   "source": [
    "corrmat = abs(neighborhood_income.corr())\n",
    "f, ax = plt.subplots(figsize=(5, 5))\n",
    "sns.heatmap(corrmat, vmax=.8, square=True);"
   ]
  },
  {
   "cell_type": "markdown",
   "metadata": {},
   "source": [
    "Vamos remover faixas de renda com alta correlação entre si e verificar o resultado:"
   ]
  },
  {
   "cell_type": "code",
   "execution_count": 823,
   "metadata": {},
   "outputs": [
    {
     "data": {
      "image/png": "[encoded data removed]",
      "text/plain": [
       "<matplotlib.figure.Figure at 0x7f1f0d40a710>"
      ]
     },
     "metadata": {},
     "output_type": "display_data"
    }
   ],
   "source": [
    "neighborhood_income = neighborhood_income.drop(columns=['Mais de 1/2 a 1 salário mínimo',\n",
    "                                 'Mais de 1 a 2 salários mínimos',\n",
    "                                 'Mais de 10 a 20 salários mínimos'\n",
    "                                 ])\n",
    "\n",
    "corrmat = abs(neighborhood_income.corr())\n",
    "f, ax = plt.subplots(figsize=(5, 5))\n",
    "sns.heatmap(corrmat, vmax=.8, square=True);"
   ]
  },
  {
   "cell_type": "markdown",
   "metadata": {},
   "source": [
    "## Pré processamento dos dados"
   ]
  },
  {
   "cell_type": "markdown",
   "metadata": {},
   "source": [
    "Unificaremos agora os dados de treino e testes para aplicar as transformações necessárias e tornaremos a separar esses dados antes de realizar o treinamento dos modelos."
   ]
  },
  {
   "cell_type": "code",
   "execution_count": 824,
   "metadata": {
    "collapsed": true
   },
   "outputs": [],
   "source": [
    "df = pd.concat((df_train, df_test))\n",
    "df = df.drop(columns=['churrasqueira','quartos','tipo_vendedor'])"
   ]
  },
  {
   "cell_type": "markdown",
   "metadata": {},
   "source": [
    "### Agregação de dados de distribuição de renda\n",
    "\n",
    "Como forma de enriquecer o conjunto de treino, adicionamos 5 novas colunas referentes a distribuição de renda nos bairros. Alguns dos bairros presentes no conjunto de treino não são de fato bairros da cidade de Recife, mas sim pontos de referência ou subregiões. Nesses casos preencheremos essas linhas com uma distribuição uniforme de renda."
   ]
  },
  {
   "cell_type": "code",
   "execution_count": 825,
   "metadata": {},
   "outputs": [
    {
     "data": {
      "text/html": [
       "<div>\n",
       "<style scoped>\n",
       "    .dataframe tbody tr th:only-of-type {\n",
       "        vertical-align: middle;\n",
       "    }\n",
       "\n",
       "    .dataframe tbody tr th {\n",
       "        vertical-align: top;\n",
       "    }\n",
       "\n",
       "    .dataframe thead th {\n",
       "        text-align: right;\n",
       "    }\n",
       "</style>\n",
       "<table border=\"1\" class=\"dataframe\">\n",
       "  <thead>\n",
       "    <tr style=\"text-align: right;\">\n",
       "      <th></th>\n",
       "      <th>Id</th>\n",
       "      <th>tipo</th>\n",
       "      <th>bairro</th>\n",
       "      <th>suites</th>\n",
       "      <th>vagas</th>\n",
       "      <th>area_util</th>\n",
       "      <th>area_extra</th>\n",
       "      <th>diferenciais</th>\n",
       "      <th>estacionamento</th>\n",
       "      <th>piscina</th>\n",
       "      <th>...</th>\n",
       "      <th>s_jogos</th>\n",
       "      <th>s_ginastica</th>\n",
       "      <th>sauna</th>\n",
       "      <th>vista_mar</th>\n",
       "      <th>preco</th>\n",
       "      <th>meio_1_salario</th>\n",
       "      <th>2_5_salarios</th>\n",
       "      <th>5_10_salarios</th>\n",
       "      <th>20_salarios</th>\n",
       "      <th>sem_salario</th>\n",
       "    </tr>\n",
       "  </thead>\n",
       "  <tbody>\n",
       "    <tr>\n",
       "      <th>0</th>\n",
       "      <td>2000</td>\n",
       "      <td>Casa</td>\n",
       "      <td>Imbiribeira</td>\n",
       "      <td>3</td>\n",
       "      <td>5</td>\n",
       "      <td>223</td>\n",
       "      <td>167</td>\n",
       "      <td>piscina e copa</td>\n",
       "      <td>0</td>\n",
       "      <td>1</td>\n",
       "      <td>...</td>\n",
       "      <td>0</td>\n",
       "      <td>0</td>\n",
       "      <td>0</td>\n",
       "      <td>0</td>\n",
       "      <td>1e+06</td>\n",
       "      <td>0.041486</td>\n",
       "      <td>0.281916</td>\n",
       "      <td>0.154787</td>\n",
       "      <td>0.017770</td>\n",
       "      <td>0.040884</td>\n",
       "    </tr>\n",
       "    <tr>\n",
       "      <th>1</th>\n",
       "      <td>2001</td>\n",
       "      <td>Apartamento</td>\n",
       "      <td>Casa Amarela</td>\n",
       "      <td>4</td>\n",
       "      <td>2</td>\n",
       "      <td>157</td>\n",
       "      <td>0</td>\n",
       "      <td>piscina e churrasqueira</td>\n",
       "      <td>0</td>\n",
       "      <td>1</td>\n",
       "      <td>...</td>\n",
       "      <td>0</td>\n",
       "      <td>0</td>\n",
       "      <td>0</td>\n",
       "      <td>0</td>\n",
       "      <td>680000</td>\n",
       "      <td>0.012156</td>\n",
       "      <td>0.269471</td>\n",
       "      <td>0.188038</td>\n",
       "      <td>0.101764</td>\n",
       "      <td>0.032272</td>\n",
       "    </tr>\n",
       "    <tr>\n",
       "      <th>2</th>\n",
       "      <td>2002</td>\n",
       "      <td>Apartamento</td>\n",
       "      <td>Encruzilhada</td>\n",
       "      <td>1</td>\n",
       "      <td>0</td>\n",
       "      <td>53</td>\n",
       "      <td>0</td>\n",
       "      <td>nenhum</td>\n",
       "      <td>0</td>\n",
       "      <td>0</td>\n",
       "      <td>...</td>\n",
       "      <td>0</td>\n",
       "      <td>0</td>\n",
       "      <td>0</td>\n",
       "      <td>0</td>\n",
       "      <td>450000</td>\n",
       "      <td>0.003992</td>\n",
       "      <td>0.208084</td>\n",
       "      <td>0.285180</td>\n",
       "      <td>0.147455</td>\n",
       "      <td>0.012725</td>\n",
       "    </tr>\n",
       "  </tbody>\n",
       "</table>\n",
       "<p>3 rows × 23 columns</p>\n",
       "</div>"
      ],
      "text/plain": [
       "     Id         tipo        bairro  suites  vagas  area_util  area_extra  \\\n",
       "0  2000         Casa   Imbiribeira       3      5        223         167   \n",
       "1  2001  Apartamento  Casa Amarela       4      2        157           0   \n",
       "2  2002  Apartamento  Encruzilhada       1      0         53           0   \n",
       "\n",
       "              diferenciais  estacionamento  piscina     ...       s_jogos  \\\n",
       "0           piscina e copa               0        1     ...             0   \n",
       "1  piscina e churrasqueira               0        1     ...             0   \n",
       "2                   nenhum               0        0     ...             0   \n",
       "\n",
       "   s_ginastica  sauna  vista_mar   preco  meio_1_salario  2_5_salarios  \\\n",
       "0            0      0          0   1e+06        0.041486      0.281916   \n",
       "1            0      0          0  680000        0.012156      0.269471   \n",
       "2            0      0          0  450000        0.003992      0.208084   \n",
       "\n",
       "  5_10_salarios  20_salarios  sem_salario  \n",
       "0      0.154787     0.017770     0.040884  \n",
       "1      0.188038     0.101764     0.032272  \n",
       "2      0.285180     0.147455     0.012725  \n",
       "\n",
       "[3 rows x 23 columns]"
      ]
     },
     "execution_count": 825,
     "metadata": {},
     "output_type": "execute_result"
    }
   ],
   "source": [
    "# adicionamos novas colunas vazias no dataset\n",
    "income_columns = ['meio_1_salario','2_5_salarios','5_10_salarios','20_salarios','sem_salario']\n",
    "df = pd.concat([df, df.reindex(columns = income_columns)], axis = 1)\n",
    "\n",
    "# tratamos dados que não são bairros de fato\n",
    "all_neighborhood = list(df.bairro.unique())\n",
    "\n",
    "skip_neighborhood = ['Beira Rio', 'Centro']\n",
    "neighborhood = list(set(all_neighborhood).symmetric_difference(skip_neighborhood))\n",
    "\n",
    "df.loc[df.bairro == 'Beira Rio', income_columns] = 1/len(income_columns)\n",
    "df.loc[df.bairro == 'Centro', income_columns] = 1/len(income_columns)\n",
    "\n",
    "# agergamos ao dataset os dados do conjunto de dados de renda média por bairro\n",
    "for neighborhood_name in neighborhood:\n",
    "        df.loc[df.bairro == neighborhood_name, income_columns] = neighborhood_income[neighborhood_income['bairro'] == neighborhood_name].iloc[:,1:].values\n",
    "\n",
    "df.head(3)"
   ]
  },
  {
   "cell_type": "markdown",
   "metadata": {},
   "source": [
    "### Binarização de variáveis\n",
    "\n",
    "Aplicaremos a técnica de **one hot encoding** para binarizar o bairro de cada imóvel. Logo, cada um desses bairros se tornará uma coluna binária que em cada linha terá valor 1 para um dos bairros e zero para todos os demais."
   ]
  },
  {
   "cell_type": "code",
   "execution_count": 826,
   "metadata": {
    "scrolled": true
   },
   "outputs": [],
   "source": [
    "hot_columns = pd.get_dummies(df['bairro'], prefix= 'bairro')\n",
    "df = pd.concat([df, hot_columns], axis = 1)\n",
    "df = df.drop(columns=['bairro'])"
   ]
  },
  {
   "cell_type": "markdown",
   "metadata": {},
   "source": [
    "## Transformação variáveis numéricas"
   ]
  },
  {
   "cell_type": "markdown",
   "metadata": {},
   "source": [
    "Em primeiro lugar iremos substituir os valores categóricos do tipo de imóvel por um mapeamento numérico que possui em si conhecimento implícito sobre o domínio do problema. Por exemplo, atribuiremos em nosso mapeamento valores maiores para casas e apartamentos do que para quitinetes e lofts."
   ]
  },
  {
   "cell_type": "code",
   "execution_count": 827,
   "metadata": {
    "collapsed": true
   },
   "outputs": [],
   "source": [
    "type_value = {\"Apartamento\": 3, \"Casa\": 3, \"Quitinete\": 1, \"Loft\": 2}\n",
    "df = df.replace({\"tipo\": type_value})"
   ]
  },
  {
   "cell_type": "markdown",
   "metadata": {},
   "source": [
    "Para reduzir a assimetria entre os valores das variáveis numéricas nós aplicamos a transformação **Min-Max**."
   ]
  },
  {
   "cell_type": "code",
   "execution_count": 828,
   "metadata": {
    "collapsed": true
   },
   "outputs": [],
   "source": [
    "from sklearn.preprocessing import minmax_scale\n",
    "\n",
    "cols = ['area_util','suites','vagas','suites','area_extra']\n",
    "\n",
    "df[cols] = minmax_scale(df[cols])"
   ]
  },
  {
   "cell_type": "markdown",
   "metadata": {},
   "source": [
    "Removermos a coluna *¨diferenciais¨*, que já teve suas informações codificadas em outras colunas, e a coluna Id."
   ]
  },
  {
   "cell_type": "code",
   "execution_count": 829,
   "metadata": {},
   "outputs": [],
   "source": [
    "df = df.drop(columns=['Id','diferenciais'])"
   ]
  },
  {
   "cell_type": "markdown",
   "metadata": {},
   "source": [
    "Agora que realizamos todas as transformações comuns ao conjunto de treino e de teste, tornaremos a separá-los em duas variáveis distintas."
   ]
  },
  {
   "cell_type": "code",
   "execution_count": 830,
   "metadata": {
    "collapsed": true
   },
   "outputs": [],
   "source": [
    "df_test = df.iloc[train_size:,:]\n",
    "df_test = df_test.drop(columns=['preco'])\n",
    "df = df.iloc[:train_size,:]\n",
    "df = df.convert_objects(convert_numeric=True)"
   ]
  },
  {
   "cell_type": "code",
   "execution_count": 831,
   "metadata": {},
   "outputs": [
    {
     "data": {
      "text/plain": [
       "4683"
      ]
     },
     "execution_count": 831,
     "metadata": {},
     "output_type": "execute_result"
    }
   ],
   "source": [
    "train_size"
   ]
  },
  {
   "cell_type": "code",
   "execution_count": 832,
   "metadata": {},
   "outputs": [
    {
     "data": {
      "text/plain": [
       "4683"
      ]
     },
     "execution_count": 832,
     "metadata": {},
     "output_type": "execute_result"
    }
   ],
   "source": [
    "len(df)"
   ]
  },
  {
   "cell_type": "markdown",
   "metadata": {},
   "source": [
    "## Transformação da variável alvo para distribuição normal\n",
    "\n",
    "Os preços de imóveis tendem a ter uma distribuição de cauda pesada, o que não é o mais adequado para a aplicação de modelos de regressão. Aplicaremos a transformação **log1p** do scikit-learn para aproximar essa distribuição de uma normal e assim melhorar eficiência dos modelos de regressão."
   ]
  },
  {
   "cell_type": "code",
   "execution_count": 833,
   "metadata": {},
   "outputs": [
    {
     "data": {
      "image/png": "[encoded data removed]",
      "text/plain": [
       "<matplotlib.figure.Figure at 0x7f1f24970208>"
      ]
     },
     "metadata": {},
     "output_type": "display_data"
    }
   ],
   "source": [
    "fig, axes = plt.subplots(1, 2, figsize=(15, 6))\n",
    "sns.distplot(df['preco'], fit = norm, ax = axes[0]);\n",
    "(mu, sigma) = norm.fit(df['preco'])\n",
    "\n",
    "axes[0].set_ylabel('Frequência relativa')\n",
    "axes[0].set_title('Valor do imóvel')\n",
    "\n",
    "\n",
    "stats.probplot(df['preco'], plot = axes[1])\n",
    "plt.show()"
   ]
  },
  {
   "cell_type": "markdown",
   "metadata": {},
   "source": [
    "Verificamos então como ficam os dados após a transformação:"
   ]
  },
  {
   "cell_type": "code",
   "execution_count": 834,
   "metadata": {},
   "outputs": [
    {
     "data": {
      "image/png": "[encoded data removed]",
      "text/plain": [
       "<matplotlib.figure.Figure at 0x7f1f142a9860>"
      ]
     },
     "metadata": {},
     "output_type": "display_data"
    }
   ],
   "source": [
    "# aplicação da transformação\n",
    "df['preco'] = np.log1p(df['preco'])\n",
    "\n",
    "fig, axes = plt.subplots(1, 2, figsize=(15, 6))\n",
    "sns.distplot(df['preco'], fit = norm, ax = axes[0]);\n",
    "(mu, sigma) = norm.fit(df['preco'])\n",
    "\n",
    "axes[0].set_ylabel('Frequência relativa')\n",
    "axes[0].set_title('Valor do imóvel')\n",
    "\n",
    "\n",
    "stats.probplot(df['preco'], plot = axes[1])\n",
    "plt.show()"
   ]
  },
  {
   "cell_type": "markdown",
   "metadata": {},
   "source": [
    "### Remoção de outliers\n",
    "\n",
    "O conjunto de dados possui 3 variáveis contínuas com grande variância, são elas: preço do imóvel, área útil e área extra. Através da plotagem do boxplot é possível verificar que existem outliers em todas essas variáveis, o que pode atrapalhar de maneira significativa o desempenho de modelos de regressão.\n",
    "\n",
    "Sendo assim, a primeira etapa de pré processamente dos dados será a remoção das linhas em que umas dessas três variáveis é outlier. Removeremos "
   ]
  },
  {
   "cell_type": "code",
   "execution_count": 835,
   "metadata": {},
   "outputs": [
    {
     "name": "stdout",
     "output_type": "stream",
     "text": [
      "4683 linhas no dataset\n"
     ]
    },
    {
     "data": {
      "image/png": "[encoded data removed]",
      "text/plain": [
       "<matplotlib.figure.Figure at 0x7f1f0f5ed2b0>"
      ]
     },
     "metadata": {},
     "output_type": "display_data"
    }
   ],
   "source": [
    "df.boxplot(column = ['preco'])\n",
    "original_size = len(df)\n",
    "print(\"{} linhas no dataset\".format(train_size))"
   ]
  },
  {
   "cell_type": "code",
   "execution_count": 836,
   "metadata": {
    "scrolled": true
   },
   "outputs": [
    {
     "name": "stdout",
     "output_type": "stream",
     "text": [
      "4302 linhas no dataset\n",
      "Diminuição de 8.14% no tamanho do conjunto de treino\n"
     ]
    },
    {
     "data": {
      "image/png": "[encoded data removed]",
      "text/plain": [
       "<matplotlib.figure.Figure at 0x7f1f0d4cc978>"
      ]
     },
     "metadata": {},
     "output_type": "display_data"
    }
   ],
   "source": [
    "columns = ['preco','area_extra','area_util']\n",
    "\n",
    "for column in columns:\n",
    "    df = df[np.abs(df_train[column] - df_train[column].mean()) <= (1 * df_train[column].std())]\n",
    "\n",
    "df = df[df.preco > 10]\n",
    "\n",
    "df.boxplot(column = ['preco'])\n",
    "\n",
    "print(\"{} linhas no dataset\".format(len(df['preco'])))\n",
    "redu = round(((original_size - len(df))/original_size)* 100,2)\n",
    "print(\"Diminuição de {}% no tamanho do conjunto de treino\".format(redu))"
   ]
  },
  {
   "cell_type": "markdown",
   "metadata": {},
   "source": [
    "Por fim, separamos o conjunto de treino em duas variáveis, uma referêntes aos parâmetros X para treinar ao modelo e outra referente ao ¨gabarito¨ Y."
   ]
  },
  {
   "cell_type": "code",
   "execution_count": 837,
   "metadata": {
    "collapsed": true
   },
   "outputs": [],
   "source": [
    "target = df['preco']\n",
    "parameters = df.copy().drop(columns=['preco'])"
   ]
  },
  {
   "cell_type": "markdown",
   "metadata": {
    "collapsed": true
   },
   "source": [
    "## Modelos"
   ]
  },
  {
   "cell_type": "markdown",
   "metadata": {},
   "source": [
    "Testaremos agora o desempenho de diferentes modelos de regressão na tarefa de predição do preço de imóveis. Foi dada prioridade na utilização dos modelos estudados na matéria *EEL891*, como forma de explorar os conceitos teóricos abordados em aula a sermos capazes de nos aprofundar nos ajustes finos e parametrizações disponíveis em cada um desses modelos.\n",
    "\n",
    "Os modelos de predição testados foram:\n",
    "\n",
    "- Regressão polinomial\n",
    "- Regressão Ridge\n",
    "- Regressão Lasso\n",
    "- Elastic Net\n",
    "- Ridge bayessiano\n",
    "- Florestas aleatórias\n",
    "- LGBM\n",
    "- xgBoost"
   ]
  },
  {
   "cell_type": "markdown",
   "metadata": {},
   "source": [
    "### Validação dos modelos\n",
    "\n",
    "Para a validação dos modelos treinados será utilizada a técnica de **validação cruzada**. A cada modelo serão feitas 5 execuções com validação cruzada e calculada a média dos resultados. A métrica de erro utilizada, como sugerido no desafio, será o **RMSPE**."
   ]
  },
  {
   "cell_type": "code",
   "execution_count": 838,
   "metadata": {
    "collapsed": true
   },
   "outputs": [],
   "source": [
    "from sklearn.model_selection import cross_val_score\n",
    "from sklearn.metrics import fbeta_score, make_scorer\n",
    "\n",
    "# número de folds na validação cruzadas\n",
    "cv_number = 5\n",
    "\n",
    "# função RMSPE a ser utilizada como métrica de erro\n",
    "def rmspe(y_pred, y):\n",
    "    rmspe = np.sqrt(np.mean( (1/ y**2) * (y_pred - y)**2 ))\n",
    "    return rmspe\n",
    "\n",
    "rmspe_score = make_scorer(rmspe, greater_is_better=False)\n",
    "\n",
    "## dataset para armazenar o resultado dos modelos\n",
    "results = pd.DataFrame([], columns = ['mean', 'std'])"
   ]
  },
  {
   "cell_type": "markdown",
   "metadata": {},
   "source": [
    "### Regressão polinomial"
   ]
  },
  {
   "cell_type": "code",
   "execution_count": 839,
   "metadata": {},
   "outputs": [],
   "source": [
    "from sklearn import linear_model\n",
    "from sklearn.pipeline import Pipeline\n",
    "\n",
    "polynomial = Pipeline([('poly', PolynomialFeatures(degree=2)),('linear',linear_model.LinearRegression(copy_X =  True))]) \n",
    "\n",
    "scores = cross_val_score(polynomial,\n",
    "                         parameters,\n",
    "                         target,\n",
    "                         scoring = rmspe_score,\n",
    "                         cv = 2)\n",
    "\n",
    "results.loc['Polynomial'] = [-scores.mean(), scores.std()]"
   ]
  },
  {
   "cell_type": "markdown",
   "metadata": {},
   "source": [
    "### Ridge Regression"
   ]
  },
  {
   "cell_type": "code",
   "execution_count": 840,
   "metadata": {},
   "outputs": [
    {
     "name": "stdout",
     "output_type": "stream",
     "text": [
      "Melhor resultado obtido com alpha = 0.0050040080160320645, resultado obtido: 0.018744192659239912\n"
     ]
    },
    {
     "data": {
      "text/plain": [
       "[<matplotlib.lines.Line2D at 0x7f1f150d5dd8>]"
      ]
     },
     "execution_count": 840,
     "metadata": {},
     "output_type": "execute_result"
    },
    {
     "data": {
      "image/png": "[encoded data removed]",
      "text/plain": [
       "<matplotlib.figure.Figure at 0x7f1f249b1f60>"
      ]
     },
     "metadata": {},
     "output_type": "display_data"
    }
   ],
   "source": [
    "from sklearn.preprocessing import PolynomialFeatures\n",
    "\n",
    "# iteramos em um intervalo de alpha que pensamos ser o mais proveitoso, de forma a achar o alpha ótimo ou ao menos um\n",
    "# mínimo local\n",
    "\n",
    "ridge_alpha_tunning = []\n",
    "\n",
    "domain = list(np.linspace(0.001,1,500))\n",
    "for alpha_value in domain:    \n",
    "    ridge = linear_model.Ridge(alpha = alpha_value, max_iter = 1000, random_state = 161095)\n",
    "    scores = cross_val_score(ridge,\n",
    "                             parameters,\n",
    "                             target,\n",
    "                             scoring = rmspe_score,\n",
    "                             cv = cv_number)\n",
    "    ridge_alpha_tunning.append(-np.mean(scores))\n",
    "\n",
    "# removemos alhpas muito grandes (em alguns casos descontinuidades) para facilitar a plotagem dos resultados\n",
    "while max(ridge_alpha_tunning) > 1:\n",
    "        index  = ridge_alpha_tunning.index(max(ridge_alpha_tunning))\n",
    "        del domain[index]\n",
    "#         del ridge_alpha_tunning[index]\n",
    "        \n",
    "best_alpha = domain[ridge_alpha_tunning.index(min(ridge_alpha_tunning))]\n",
    "ridge = linear_model.Ridge(alpha = best_alpha, max_iter = 1000, random_state = 161095)\n",
    "scores = cross_val_score(ridge,\n",
    "                         parameters,\n",
    "                         target,\n",
    "                         scoring = rmspe_score,\n",
    "                         cv = cv_number)\n",
    "\n",
    "# salvamos o resultado do melhor alpha em nosso dataframe de resultados\n",
    "results.loc['Ridge'] = [-scores.mean(), scores.std()]\n",
    "\n",
    "print(\"Melhor resultado obtido com alpha = {}, resultado obtido: {}\".format(best_alpha, min(ridge_alpha_tunning)))\n",
    "\n",
    "plt.plot(domain, ridge_alpha_tunning, color='b')"
   ]
  },
  {
   "cell_type": "markdown",
   "metadata": {},
   "source": [
    "### Lasso regression"
   ]
  },
  {
   "cell_type": "code",
   "execution_count": 841,
   "metadata": {},
   "outputs": [
    {
     "name": "stdout",
     "output_type": "stream",
     "text": [
      "Melhor resultado obtido com alpha = 5.0040080160320644e-05, resultado obtido: 0.018684852225104617\n"
     ]
    },
    {
     "data": {
      "text/plain": [
       "[<matplotlib.lines.Line2D at 0x7f1f0f2b95f8>]"
      ]
     },
     "execution_count": 841,
     "metadata": {},
     "output_type": "execute_result"
    },
    {
     "data": {
      "image/png": "[encoded data removed]",
      "text/plain": [
       "<matplotlib.figure.Figure at 0x7f1f0f49d4a8>"
      ]
     },
     "metadata": {},
     "output_type": "display_data"
    }
   ],
   "source": [
    "lasso_alpha_tunning = []\n",
    "domain = list(np.linspace(0.00001,0.01,500))\n",
    "for alpha_value in domain:    \n",
    "    lasso = linear_model.Lasso(alpha = alpha_value,random_state = 161095)\n",
    "    scores = cross_val_score(lasso,\n",
    "                             parameters,\n",
    "                             target,\n",
    "                             scoring = rmspe_score,\n",
    "                            cv = cv_number)\n",
    "    lasso_alpha_tunning.append(-np.mean(scores))\n",
    "\n",
    "\n",
    "while max(lasso_alpha_tunning) > 1:\n",
    "        index  = lasso_alpha_tunning.index(max(lasso_alpha_tunning))\n",
    "        del domain[index]\n",
    "        del lasso_alpha_tunning[index]\n",
    "        \n",
    "best_alpha = domain[lasso_alpha_tunning.index(min(lasso_alpha_tunning))]\n",
    "lasso = linear_model.Lasso(alpha = alpha_value,random_state = 161095, max_iter = 3000)\n",
    "scores = cross_val_score(lasso,\n",
    "                         parameters,\n",
    "                         target,\n",
    "                         scoring = rmspe_score,\n",
    "                         cv = cv_number)\n",
    "\n",
    "results.loc['Lasoo'] = [-scores.mean(), scores.std()]\n",
    "\n",
    "print(\"Melhor resultado obtido com alpha = {}, resultado obtido: {}\".format(domain[lasso_alpha_tunning.index(min(lasso_alpha_tunning))],min(lasso_alpha_tunning)))\n",
    "plt.plot(domain, lasso_alpha_tunning, color='b')"
   ]
  },
  {
   "cell_type": "markdown",
   "metadata": {},
   "source": [
    "### Elastic Net"
   ]
  },
  {
   "cell_type": "code",
   "execution_count": 842,
   "metadata": {},
   "outputs": [
    {
     "name": "stdout",
     "output_type": "stream",
     "text": [
      "Melhor resultado obtido com alpha = 1e-06, resultado obtido: 0.018748997576900524\n"
     ]
    },
    {
     "data": {
      "text/plain": [
       "[<matplotlib.lines.Line2D at 0x7f1f14210a90>]"
      ]
     },
     "execution_count": 842,
     "metadata": {},
     "output_type": "execute_result"
    },
    {
     "data": {
      "image/png": "[encoded data removed]",
      "text/plain": [
       "<matplotlib.figure.Figure at 0x7f1f0f5710f0>"
      ]
     },
     "metadata": {},
     "output_type": "display_data"
    }
   ],
   "source": [
    "from sklearn.linear_model import ElasticNet\n",
    "\n",
    "elastic_alpha_tunning = []\n",
    "domain = list(np.linspace(0.000001,0.01,500))\n",
    "for alpha_value in domain:    \n",
    "    elastic_net = ElasticNet(alpha = alpha_value, l1_ratio= 0.6, copy_X = True,random_state = 161095)\n",
    "    scores = cross_val_score(elastic_net,\n",
    "                             parameters,\n",
    "                             target,\n",
    "                             scoring = rmspe_score,\n",
    "                             cv = cv_number)\n",
    "    elastic_alpha_tunning.append(-np.mean(scores))\n",
    "\n",
    "\n",
    "while max(elastic_alpha_tunning) > 1:\n",
    "        index  = elastic_alpha_tunning.index(max(elastic_alpha_tunning))\n",
    "        del domain[index]\n",
    "        del elastic_alpha_tunning[index]\n",
    "        \n",
    "best_alpha = domain[elastic_alpha_tunning.index(min(elastic_alpha_tunning))]\n",
    "elastic_net = ElasticNet(alpha = alpha_value, l1_ratio= 0.6, copy_X = True,random_state = 161095)\n",
    "scores = cross_val_score(elastic_net,\n",
    "                         parameters,\n",
    "                         target,\n",
    "                         scoring = rmspe_score,\n",
    "                         cv = cv_number)\n",
    "\n",
    "results.loc['ElasticNet'] = [-scores.mean(), scores.std()]\n",
    "        \n",
    "print(\"Melhor resultado obtido com alpha = {}, resultado obtido: {}\".format(domain[elastic_alpha_tunning.index(min(elastic_alpha_tunning))],min(elastic_alpha_tunning)))\n",
    "plt.plot(domain, elastic_alpha_tunning, color='b')"
   ]
  },
  {
   "cell_type": "markdown",
   "metadata": {},
   "source": [
    "### Bayesian Ridge"
   ]
  },
  {
   "cell_type": "code",
   "execution_count": 843,
   "metadata": {
    "collapsed": true
   },
   "outputs": [],
   "source": [
    "from sklearn.linear_model import BayesianRidge\n",
    "\n",
    "bayesian_ridge = BayesianRidge()\n",
    "\n",
    "scores = cross_val_score(bayesian_ridge,\n",
    "                         parameters,\n",
    "                         target,\n",
    "                         scoring = rmspe_score,\n",
    "                         cv = cv_number)\n",
    "\n",
    "results.loc['BayesianRidge'] = [-scores.mean(), scores.std()]"
   ]
  },
  {
   "cell_type": "markdown",
   "metadata": {},
   "source": [
    "### Random Forest"
   ]
  },
  {
   "cell_type": "code",
   "execution_count": 844,
   "metadata": {},
   "outputs": [],
   "source": [
    "from sklearn.ensemble import RandomForestRegressor\n",
    "\n",
    "random_forest = RandomForestRegressor(n_estimators = 100)\n",
    "\n",
    "scores = cross_val_score(random_forest,\n",
    "                         parameters,\n",
    "                         target,\n",
    "                         scoring = rmspe_score,\n",
    "                         cv = cv_number)\n",
    "\n",
    "results.loc['RandomForest'] = [-scores.mean(), scores.std()]"
   ]
  },
  {
   "cell_type": "markdown",
   "metadata": {},
   "source": [
    "### LightGBM"
   ]
  },
  {
   "cell_type": "code",
   "execution_count": 845,
   "metadata": {},
   "outputs": [
    {
     "name": "stdout",
     "output_type": "stream",
     "text": [
      "0.016939849474754916\n"
     ]
    }
   ],
   "source": [
    "import lightgbm as lgb\n",
    "\n",
    "lgbm = lgb.LGBMRegressor(objective='regression',num_leaves=5,\n",
    "                              learning_rate = 0.1, n_estimators=720,\n",
    "                              max_bin = 55, bagging_fraction = 0.8,\n",
    "                              bagging_freq = 5, feature_fraction = 0.2319,\n",
    "                              feature_fraction_seed=9, bagging_seed=9,\n",
    "                              min_data_in_leaf = 60, min_sum_hessian_in_leaf = 10)\n",
    "\n",
    "scores = cross_val_score(lgbm,\n",
    "                         parameters,\n",
    "                         target,\n",
    "                         scoring = rmspe_score,\n",
    "                         cv = 20)\n",
    "\n",
    "print(-scores.mean())\n",
    "results.loc['LGBM'] = [-scores.mean(), scores.std()]"
   ]
  },
  {
   "cell_type": "markdown",
   "metadata": {},
   "source": [
    "### KNN"
   ]
  },
  {
   "cell_type": "code",
   "execution_count": 846,
   "metadata": {
    "collapsed": true
   },
   "outputs": [],
   "source": [
    "from sklearn.neighbors import KNeighborsRegressor\n",
    "\n",
    "knn = KNeighborsRegressor()\n",
    "\n",
    "scores = cross_val_score(knn,\n",
    "                         parameters,\n",
    "                         target,\n",
    "                         scoring = rmspe_score,\n",
    "                         cv = cv_number)\n",
    "\n",
    "results.loc['KNeighbors'] = [-scores.mean(), scores.std()]"
   ]
  },
  {
   "cell_type": "markdown",
   "metadata": {},
   "source": [
    "### xgBoost"
   ]
  },
  {
   "cell_type": "code",
   "execution_count": 847,
   "metadata": {},
   "outputs": [
    {
     "name": "stdout",
     "output_type": "stream",
     "text": [
      "0.01658929773370053\n"
     ]
    }
   ],
   "source": [
    "import xgboost as xgb\n",
    "\n",
    "xgboost = xgb.XGBRegressor(colsample_bytree = 0.6,\n",
    "                           gamma = 0.2,\n",
    "                           learning_rate = 0.04,\n",
    "                           max_depth = 4,\n",
    "                           min_child_weight = 1.5,\n",
    "                           n_estimators = 2200,\n",
    "                           reg_alpha = 0.9,\n",
    "                           reg_lambda = 0.1,\n",
    "                           subsample = 0.7,\n",
    "                           silent = 1,\n",
    "                           random_state = 161095,\n",
    "                           n_jobs = 4)\n",
    "\n",
    "scores = cross_val_score(xgboost,\n",
    "                         parameters,\n",
    "                         target,\n",
    "                         scoring = rmspe_score,\n",
    "                         cv = 5)\n",
    "\n",
    "results.loc['xgBoost'] = [-scores.mean(), scores.std()]\n",
    "\n",
    "print(-scores.mean())"
   ]
  },
  {
   "cell_type": "code",
   "execution_count": 848,
   "metadata": {
    "scrolled": true
   },
   "outputs": [
    {
     "data": {
      "text/html": [
       "<div>\n",
       "<style scoped>\n",
       "    .dataframe tbody tr th:only-of-type {\n",
       "        vertical-align: middle;\n",
       "    }\n",
       "\n",
       "    .dataframe tbody tr th {\n",
       "        vertical-align: top;\n",
       "    }\n",
       "\n",
       "    .dataframe thead th {\n",
       "        text-align: right;\n",
       "    }\n",
       "</style>\n",
       "<table border=\"1\" class=\"dataframe\">\n",
       "  <thead>\n",
       "    <tr style=\"text-align: right;\">\n",
       "      <th></th>\n",
       "      <th>mean</th>\n",
       "      <th>std</th>\n",
       "    </tr>\n",
       "  </thead>\n",
       "  <tbody>\n",
       "    <tr>\n",
       "      <th>Polynomial</th>\n",
       "      <td>0.255948</td>\n",
       "      <td>0.017650</td>\n",
       "    </tr>\n",
       "    <tr>\n",
       "      <th>Ridge</th>\n",
       "      <td>0.018744</td>\n",
       "      <td>0.000475</td>\n",
       "    </tr>\n",
       "    <tr>\n",
       "      <th>Lasoo</th>\n",
       "      <td>0.027953</td>\n",
       "      <td>0.000556</td>\n",
       "    </tr>\n",
       "    <tr>\n",
       "      <th>ElasticNet</th>\n",
       "      <td>0.027592</td>\n",
       "      <td>0.000529</td>\n",
       "    </tr>\n",
       "    <tr>\n",
       "      <th>BayesianRidge</th>\n",
       "      <td>0.018751</td>\n",
       "      <td>0.000484</td>\n",
       "    </tr>\n",
       "    <tr>\n",
       "      <th>RandomForest</th>\n",
       "      <td>0.017103</td>\n",
       "      <td>0.000692</td>\n",
       "    </tr>\n",
       "    <tr>\n",
       "      <th>LGBM</th>\n",
       "      <td>0.016940</td>\n",
       "      <td>0.001689</td>\n",
       "    </tr>\n",
       "    <tr>\n",
       "      <th>KNeighbors</th>\n",
       "      <td>0.023782</td>\n",
       "      <td>0.000740</td>\n",
       "    </tr>\n",
       "    <tr>\n",
       "      <th>xgBoost</th>\n",
       "      <td>0.016589</td>\n",
       "      <td>0.000486</td>\n",
       "    </tr>\n",
       "  </tbody>\n",
       "</table>\n",
       "</div>"
      ],
      "text/plain": [
       "                   mean       std\n",
       "Polynomial     0.255948  0.017650\n",
       "Ridge          0.018744  0.000475\n",
       "Lasoo          0.027953  0.000556\n",
       "ElasticNet     0.027592  0.000529\n",
       "BayesianRidge  0.018751  0.000484\n",
       "RandomForest   0.017103  0.000692\n",
       "LGBM           0.016940  0.001689\n",
       "KNeighbors     0.023782  0.000740\n",
       "xgBoost        0.016589  0.000486"
      ]
     },
     "execution_count": 848,
     "metadata": {},
     "output_type": "execute_result"
    }
   ],
   "source": [
    "results"
   ]
  },
  {
   "cell_type": "markdown",
   "metadata": {},
   "source": [
    "## Conclusões e submissões\n",
    "\n"
   ]
  },
  {
   "cell_type": "markdown",
   "metadata": {},
   "source": [
    "Foi possível concluir que **modelos de Ensemble são os que apresentam melhor resultado**. As variações LGBM e xGBoost do modelo Gradient Boost obtiveram os melhores resultados em especial. Ambos os modelos funcionam com base em árvores de decisão e implementam técnicas que constroem diversas árvores para mesclar os resultados e reduzir o overfitting.\n",
    "\n",
    "Notou-se também que a etapa que mais surtiu efeito no resultado dos modelos foi o pré processamento dos dados. Mudanças nessas etapa tenderam a surtir muito mais efeito do que ajustes finos nos parâmetros de qualquer um dos modelos utilizados."
   ]
  },
  {
   "cell_type": "markdown",
   "metadata": {
    "collapsed": true
   },
   "source": [
    "### Gerador de arquivo de submissão\n",
    "\n",
    "Observamos os resultados do de nossa análise e escolhemos o modelo **xgBoost** para treinar com os dados de teste e realizar a submissão para o Kaggle."
   ]
  },
  {
   "cell_type": "code",
   "execution_count": 850,
   "metadata": {},
   "outputs": [],
   "source": [
    "result = pd.DataFrame()\n",
    "result['Id'] = test_ids\n",
    "\n",
    "xgboost = xgb.XGBRegressor(colsample_bytree = 0.6,\n",
    "                           gamma = 0.2,\n",
    "                           learning_rate = 0.04,\n",
    "                           max_depth = 4,\n",
    "                           min_child_weight = 1.5,\n",
    "                           n_estimators = 2200,\n",
    "                           reg_alpha = 0.9,\n",
    "                           reg_lambda = 0.1,\n",
    "                           subsample = 0.7,\n",
    "                           silent = 1,\n",
    "                           random_state = 161095,\n",
    "                           n_jobs = 4)\n",
    "\n",
    "xgboost.fit(parameters, target)\n",
    "xgboost_predictions = xgboost.predict(df_test)\n",
    "\n",
    "transform_predict = np.expm1(xgboost_predictions)\n",
    "result['preco'] = transform_predict\n",
    "result.to_csv('submission.csv', index=False)"
   ]
  },
  {
   "cell_type": "code",
   "execution_count": null,
   "metadata": {
    "collapsed": true
   },
   "outputs": [],
   "source": []
  }
 ],
 "metadata": {
  "kernelspec": {
   "display_name": "Python 3",
   "language": "python",
   "name": "python3"
  },
  "language_info": {
   "codemirror_mode": {
    "name": "ipython",
    "version": 3
   },
   "file_extension": ".py",
   "mimetype": "text/x-python",
   "name": "python",
   "nbconvert_exporter": "python",
   "pygments_lexer": "ipython3",
   "version": "3.6.3"
  }
 },
 "nbformat": 4,
 "nbformat_minor": 2
}
